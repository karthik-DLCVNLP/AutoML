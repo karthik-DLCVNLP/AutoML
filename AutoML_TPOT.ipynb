{
  "nbformat": 4,
  "nbformat_minor": 0,
  "metadata": {
    "colab": {
      "name": "AutoML_TPOT.ipynb",
      "provenance": []
    },
    "kernelspec": {
      "display_name": "Python 3",
      "language": "python",
      "name": "python3"
    },
    "language_info": {
      "codemirror_mode": {
        "name": "ipython",
        "version": 3
      },
      "file_extension": ".py",
      "mimetype": "text/x-python",
      "name": "python",
      "nbconvert_exporter": "python",
      "pygments_lexer": "ipython3",
      "version": "3.7.4"
    },
    "widgets": {
      "application/vnd.jupyter.widget-state+json": {
        "0b57367bae7441efbc985fd3aa5debdb": {
          "model_module": "@jupyter-widgets/controls",
          "model_name": "HBoxModel",
          "state": {
            "_dom_classes": [],
            "_model_module": "@jupyter-widgets/controls",
            "_model_module_version": "1.5.0",
            "_model_name": "HBoxModel",
            "_view_count": null,
            "_view_module": "@jupyter-widgets/controls",
            "_view_module_version": "1.5.0",
            "_view_name": "HBoxView",
            "box_style": "",
            "children": [
              "IPY_MODEL_1bd053cac058424681037065ff9bf178",
              "IPY_MODEL_9dcac41ec592492c8689834c629e9618"
            ],
            "layout": "IPY_MODEL_d54fdcc48bc748f9a5abe58d4be3fb80"
          }
        },
        "d54fdcc48bc748f9a5abe58d4be3fb80": {
          "model_module": "@jupyter-widgets/base",
          "model_name": "LayoutModel",
          "state": {
            "_model_module": "@jupyter-widgets/base",
            "_model_module_version": "1.2.0",
            "_model_name": "LayoutModel",
            "_view_count": null,
            "_view_module": "@jupyter-widgets/base",
            "_view_module_version": "1.2.0",
            "_view_name": "LayoutView",
            "align_content": null,
            "align_items": null,
            "align_self": null,
            "border": null,
            "bottom": null,
            "display": null,
            "flex": null,
            "flex_flow": null,
            "grid_area": null,
            "grid_auto_columns": null,
            "grid_auto_flow": null,
            "grid_auto_rows": null,
            "grid_column": null,
            "grid_gap": null,
            "grid_row": null,
            "grid_template_areas": null,
            "grid_template_columns": null,
            "grid_template_rows": null,
            "height": null,
            "justify_content": null,
            "justify_items": null,
            "left": null,
            "margin": null,
            "max_height": null,
            "max_width": null,
            "min_height": null,
            "min_width": null,
            "object_fit": null,
            "object_position": null,
            "order": null,
            "overflow": null,
            "overflow_x": null,
            "overflow_y": null,
            "padding": null,
            "right": null,
            "top": null,
            "visibility": null,
            "width": null
          }
        },
        "1bd053cac058424681037065ff9bf178": {
          "model_module": "@jupyter-widgets/controls",
          "model_name": "FloatProgressModel",
          "state": {
            "_dom_classes": [],
            "_model_module": "@jupyter-widgets/controls",
            "_model_module_version": "1.5.0",
            "_model_name": "FloatProgressModel",
            "_view_count": null,
            "_view_module": "@jupyter-widgets/controls",
            "_view_module_version": "1.5.0",
            "_view_name": "ProgressView",
            "bar_style": "",
            "description": "Optimization Progress: 100%",
            "description_tooltip": null,
            "layout": "IPY_MODEL_b5beb04239084805b44d1809afc40295",
            "max": 50,
            "min": 0,
            "orientation": "horizontal",
            "style": "IPY_MODEL_fd6dc023b064470ba3488983c0d69dcc",
            "value": 50
          }
        },
        "9dcac41ec592492c8689834c629e9618": {
          "model_module": "@jupyter-widgets/controls",
          "model_name": "HTMLModel",
          "state": {
            "_dom_classes": [],
            "_model_module": "@jupyter-widgets/controls",
            "_model_module_version": "1.5.0",
            "_model_name": "HTMLModel",
            "_view_count": null,
            "_view_module": "@jupyter-widgets/controls",
            "_view_module_version": "1.5.0",
            "_view_name": "HTMLView",
            "description": "",
            "description_tooltip": null,
            "layout": "IPY_MODEL_da72641b8d304c25a383406c40a7c0c0",
            "placeholder": "​",
            "style": "IPY_MODEL_8f817a7200524a0abd9a548ea9c4510e",
            "value": " 50/50 [07:55&lt;00:00,  3.68s/pipeline]"
          }
        },
        "fd6dc023b064470ba3488983c0d69dcc": {
          "model_module": "@jupyter-widgets/controls",
          "model_name": "ProgressStyleModel",
          "state": {
            "_model_module": "@jupyter-widgets/controls",
            "_model_module_version": "1.5.0",
            "_model_name": "ProgressStyleModel",
            "_view_count": null,
            "_view_module": "@jupyter-widgets/base",
            "_view_module_version": "1.2.0",
            "_view_name": "StyleView",
            "bar_color": null,
            "description_width": "initial"
          }
        },
        "b5beb04239084805b44d1809afc40295": {
          "model_module": "@jupyter-widgets/base",
          "model_name": "LayoutModel",
          "state": {
            "_model_module": "@jupyter-widgets/base",
            "_model_module_version": "1.2.0",
            "_model_name": "LayoutModel",
            "_view_count": null,
            "_view_module": "@jupyter-widgets/base",
            "_view_module_version": "1.2.0",
            "_view_name": "LayoutView",
            "align_content": null,
            "align_items": null,
            "align_self": null,
            "border": null,
            "bottom": null,
            "display": null,
            "flex": null,
            "flex_flow": null,
            "grid_area": null,
            "grid_auto_columns": null,
            "grid_auto_flow": null,
            "grid_auto_rows": null,
            "grid_column": null,
            "grid_gap": null,
            "grid_row": null,
            "grid_template_areas": null,
            "grid_template_columns": null,
            "grid_template_rows": null,
            "height": null,
            "justify_content": null,
            "justify_items": null,
            "left": null,
            "margin": null,
            "max_height": null,
            "max_width": null,
            "min_height": null,
            "min_width": null,
            "object_fit": null,
            "object_position": null,
            "order": null,
            "overflow": null,
            "overflow_x": null,
            "overflow_y": null,
            "padding": null,
            "right": null,
            "top": null,
            "visibility": null,
            "width": null
          }
        },
        "8f817a7200524a0abd9a548ea9c4510e": {
          "model_module": "@jupyter-widgets/controls",
          "model_name": "DescriptionStyleModel",
          "state": {
            "_model_module": "@jupyter-widgets/controls",
            "_model_module_version": "1.5.0",
            "_model_name": "DescriptionStyleModel",
            "_view_count": null,
            "_view_module": "@jupyter-widgets/base",
            "_view_module_version": "1.2.0",
            "_view_name": "StyleView",
            "description_width": ""
          }
        },
        "da72641b8d304c25a383406c40a7c0c0": {
          "model_module": "@jupyter-widgets/base",
          "model_name": "LayoutModel",
          "state": {
            "_model_module": "@jupyter-widgets/base",
            "_model_module_version": "1.2.0",
            "_model_name": "LayoutModel",
            "_view_count": null,
            "_view_module": "@jupyter-widgets/base",
            "_view_module_version": "1.2.0",
            "_view_name": "LayoutView",
            "align_content": null,
            "align_items": null,
            "align_self": null,
            "border": null,
            "bottom": null,
            "display": null,
            "flex": null,
            "flex_flow": null,
            "grid_area": null,
            "grid_auto_columns": null,
            "grid_auto_flow": null,
            "grid_auto_rows": null,
            "grid_column": null,
            "grid_gap": null,
            "grid_row": null,
            "grid_template_areas": null,
            "grid_template_columns": null,
            "grid_template_rows": null,
            "height": null,
            "justify_content": null,
            "justify_items": null,
            "left": null,
            "margin": null,
            "max_height": null,
            "max_width": null,
            "min_height": null,
            "min_width": null,
            "object_fit": null,
            "object_position": null,
            "order": null,
            "overflow": null,
            "overflow_x": null,
            "overflow_y": null,
            "padding": null,
            "right": null,
            "top": null,
            "visibility": null,
            "width": null
          }
        },
        "4ff6e4d84e85436ca2304eb1b79e3ae0": {
          "model_module": "@jupyter-widgets/controls",
          "model_name": "HBoxModel",
          "state": {
            "_dom_classes": [],
            "_model_module": "@jupyter-widgets/controls",
            "_model_module_version": "1.5.0",
            "_model_name": "HBoxModel",
            "_view_count": null,
            "_view_module": "@jupyter-widgets/controls",
            "_view_module_version": "1.5.0",
            "_view_name": "HBoxView",
            "box_style": "",
            "children": [
              "IPY_MODEL_3b122e1b89b04b3e84cea226ee0d1418",
              "IPY_MODEL_510b50611f4c488296da840bd11b6f75"
            ],
            "layout": "IPY_MODEL_ce1f03951d8b49f28d868c765ea22032"
          }
        },
        "ce1f03951d8b49f28d868c765ea22032": {
          "model_module": "@jupyter-widgets/base",
          "model_name": "LayoutModel",
          "state": {
            "_model_module": "@jupyter-widgets/base",
            "_model_module_version": "1.2.0",
            "_model_name": "LayoutModel",
            "_view_count": null,
            "_view_module": "@jupyter-widgets/base",
            "_view_module_version": "1.2.0",
            "_view_name": "LayoutView",
            "align_content": null,
            "align_items": null,
            "align_self": null,
            "border": null,
            "bottom": null,
            "display": null,
            "flex": null,
            "flex_flow": null,
            "grid_area": null,
            "grid_auto_columns": null,
            "grid_auto_flow": null,
            "grid_auto_rows": null,
            "grid_column": null,
            "grid_gap": null,
            "grid_row": null,
            "grid_template_areas": null,
            "grid_template_columns": null,
            "grid_template_rows": null,
            "height": null,
            "justify_content": null,
            "justify_items": null,
            "left": null,
            "margin": null,
            "max_height": null,
            "max_width": null,
            "min_height": null,
            "min_width": null,
            "object_fit": null,
            "object_position": null,
            "order": null,
            "overflow": null,
            "overflow_x": null,
            "overflow_y": null,
            "padding": null,
            "right": null,
            "top": null,
            "visibility": null,
            "width": null
          }
        },
        "3b122e1b89b04b3e84cea226ee0d1418": {
          "model_module": "@jupyter-widgets/controls",
          "model_name": "FloatProgressModel",
          "state": {
            "_dom_classes": [],
            "_model_module": "@jupyter-widgets/controls",
            "_model_module_version": "1.5.0",
            "_model_name": "FloatProgressModel",
            "_view_count": null,
            "_view_module": "@jupyter-widgets/controls",
            "_view_module_version": "1.5.0",
            "_view_name": "ProgressView",
            "bar_style": "",
            "description": "Optimization Progress: 100%",
            "description_tooltip": null,
            "layout": "IPY_MODEL_949e1cfe799646e3811f21aa490670cf",
            "max": 60,
            "min": 0,
            "orientation": "horizontal",
            "style": "IPY_MODEL_e59f383dbf17486c9a6d4db8871fdeed",
            "value": 60
          }
        },
        "510b50611f4c488296da840bd11b6f75": {
          "model_module": "@jupyter-widgets/controls",
          "model_name": "HTMLModel",
          "state": {
            "_dom_classes": [],
            "_model_module": "@jupyter-widgets/controls",
            "_model_module_version": "1.5.0",
            "_model_name": "HTMLModel",
            "_view_count": null,
            "_view_module": "@jupyter-widgets/controls",
            "_view_module_version": "1.5.0",
            "_view_name": "HTMLView",
            "description": "",
            "description_tooltip": null,
            "layout": "IPY_MODEL_2ef637976778484c8c9a95709c39b444",
            "placeholder": "​",
            "style": "IPY_MODEL_c9b31e74cf774652a6341b4affffd0f1",
            "value": " 60/60 [02:19&lt;00:00,  3.27s/pipeline]"
          }
        },
        "e59f383dbf17486c9a6d4db8871fdeed": {
          "model_module": "@jupyter-widgets/controls",
          "model_name": "ProgressStyleModel",
          "state": {
            "_model_module": "@jupyter-widgets/controls",
            "_model_module_version": "1.5.0",
            "_model_name": "ProgressStyleModel",
            "_view_count": null,
            "_view_module": "@jupyter-widgets/base",
            "_view_module_version": "1.2.0",
            "_view_name": "StyleView",
            "bar_color": null,
            "description_width": "initial"
          }
        },
        "949e1cfe799646e3811f21aa490670cf": {
          "model_module": "@jupyter-widgets/base",
          "model_name": "LayoutModel",
          "state": {
            "_model_module": "@jupyter-widgets/base",
            "_model_module_version": "1.2.0",
            "_model_name": "LayoutModel",
            "_view_count": null,
            "_view_module": "@jupyter-widgets/base",
            "_view_module_version": "1.2.0",
            "_view_name": "LayoutView",
            "align_content": null,
            "align_items": null,
            "align_self": null,
            "border": null,
            "bottom": null,
            "display": null,
            "flex": null,
            "flex_flow": null,
            "grid_area": null,
            "grid_auto_columns": null,
            "grid_auto_flow": null,
            "grid_auto_rows": null,
            "grid_column": null,
            "grid_gap": null,
            "grid_row": null,
            "grid_template_areas": null,
            "grid_template_columns": null,
            "grid_template_rows": null,
            "height": null,
            "justify_content": null,
            "justify_items": null,
            "left": null,
            "margin": null,
            "max_height": null,
            "max_width": null,
            "min_height": null,
            "min_width": null,
            "object_fit": null,
            "object_position": null,
            "order": null,
            "overflow": null,
            "overflow_x": null,
            "overflow_y": null,
            "padding": null,
            "right": null,
            "top": null,
            "visibility": null,
            "width": null
          }
        },
        "c9b31e74cf774652a6341b4affffd0f1": {
          "model_module": "@jupyter-widgets/controls",
          "model_name": "DescriptionStyleModel",
          "state": {
            "_model_module": "@jupyter-widgets/controls",
            "_model_module_version": "1.5.0",
            "_model_name": "DescriptionStyleModel",
            "_view_count": null,
            "_view_module": "@jupyter-widgets/base",
            "_view_module_version": "1.2.0",
            "_view_name": "StyleView",
            "description_width": ""
          }
        },
        "2ef637976778484c8c9a95709c39b444": {
          "model_module": "@jupyter-widgets/base",
          "model_name": "LayoutModel",
          "state": {
            "_model_module": "@jupyter-widgets/base",
            "_model_module_version": "1.2.0",
            "_model_name": "LayoutModel",
            "_view_count": null,
            "_view_module": "@jupyter-widgets/base",
            "_view_module_version": "1.2.0",
            "_view_name": "LayoutView",
            "align_content": null,
            "align_items": null,
            "align_self": null,
            "border": null,
            "bottom": null,
            "display": null,
            "flex": null,
            "flex_flow": null,
            "grid_area": null,
            "grid_auto_columns": null,
            "grid_auto_flow": null,
            "grid_auto_rows": null,
            "grid_column": null,
            "grid_gap": null,
            "grid_row": null,
            "grid_template_areas": null,
            "grid_template_columns": null,
            "grid_template_rows": null,
            "height": null,
            "justify_content": null,
            "justify_items": null,
            "left": null,
            "margin": null,
            "max_height": null,
            "max_width": null,
            "min_height": null,
            "min_width": null,
            "object_fit": null,
            "object_position": null,
            "order": null,
            "overflow": null,
            "overflow_x": null,
            "overflow_y": null,
            "padding": null,
            "right": null,
            "top": null,
            "visibility": null,
            "width": null
          }
        }
      }
    }
  },
  "cells": [
    {
      "cell_type": "code",
      "metadata": {
        "colab": {
          "base_uri": "https://localhost:8080/"
        },
        "id": "xpEu7ltZFxxo",
        "outputId": "bc0a37b1-848d-4062-f088-4bfff1125f49"
      },
      "source": [
        "!pip install tpot"
      ],
      "execution_count": 1,
      "outputs": [
        {
          "output_type": "stream",
          "text": [
            "Collecting tpot\n",
            "\u001b[?25l  Downloading https://files.pythonhosted.org/packages/b2/55/a7185198f554ea19758e5ac4641f100c94cba4585e738e2e48e3c40a0b7f/TPOT-0.11.7-py3-none-any.whl (87kB)\n",
            "\r\u001b[K     |███▊                            | 10kB 14.4MB/s eta 0:00:01\r\u001b[K     |███████▌                        | 20kB 9.7MB/s eta 0:00:01\r\u001b[K     |███████████▎                    | 30kB 8.5MB/s eta 0:00:01\r\u001b[K     |███████████████                 | 40kB 7.4MB/s eta 0:00:01\r\u001b[K     |██████████████████▉             | 51kB 4.2MB/s eta 0:00:01\r\u001b[K     |██████████████████████▋         | 61kB 4.8MB/s eta 0:00:01\r\u001b[K     |██████████████████████████▎     | 71kB 4.8MB/s eta 0:00:01\r\u001b[K     |██████████████████████████████  | 81kB 5.2MB/s eta 0:00:01\r\u001b[K     |████████████████████████████████| 92kB 3.9MB/s \n",
            "\u001b[?25hRequirement already satisfied: numpy>=1.16.3 in /usr/local/lib/python3.7/dist-packages (from tpot) (1.19.5)\n",
            "Collecting xgboost>=1.1.0\n",
            "\u001b[?25l  Downloading https://files.pythonhosted.org/packages/2e/57/bf5026701c384decd2b995eb39d86587a103ba4eb26f8a9b1811db0896d3/xgboost-1.3.3-py3-none-manylinux2010_x86_64.whl (157.5MB)\n",
            "\u001b[K     |████████████████████████████████| 157.5MB 71kB/s \n",
            "\u001b[?25hRequirement already satisfied: scipy>=1.3.1 in /usr/local/lib/python3.7/dist-packages (from tpot) (1.4.1)\n",
            "Collecting update-checker>=0.16\n",
            "  Downloading https://files.pythonhosted.org/packages/0c/ba/8dd7fa5f0b1c6a8ac62f8f57f7e794160c1f86f31c6d0fb00f582372a3e4/update_checker-0.18.0-py3-none-any.whl\n",
            "Requirement already satisfied: joblib>=0.13.2 in /usr/local/lib/python3.7/dist-packages (from tpot) (1.0.1)\n",
            "Collecting deap>=1.2\n",
            "\u001b[?25l  Downloading https://files.pythonhosted.org/packages/99/d1/803c7a387d8a7e6866160b1541307f88d534da4291572fb32f69d2548afb/deap-1.3.1-cp37-cp37m-manylinux2010_x86_64.whl (157kB)\n",
            "\u001b[K     |████████████████████████████████| 163kB 6.2MB/s \n",
            "\u001b[?25hCollecting stopit>=1.1.1\n",
            "  Downloading https://files.pythonhosted.org/packages/35/58/e8bb0b0fb05baf07bbac1450c447d753da65f9701f551dca79823ce15d50/stopit-1.1.2.tar.gz\n",
            "Requirement already satisfied: tqdm>=4.36.1 in /usr/local/lib/python3.7/dist-packages (from tpot) (4.41.1)\n",
            "Requirement already satisfied: pandas>=0.24.2 in /usr/local/lib/python3.7/dist-packages (from tpot) (1.1.5)\n",
            "Requirement already satisfied: scikit-learn>=0.22.0 in /usr/local/lib/python3.7/dist-packages (from tpot) (0.22.2.post1)\n",
            "Requirement already satisfied: requests>=2.3.0 in /usr/local/lib/python3.7/dist-packages (from update-checker>=0.16->tpot) (2.23.0)\n",
            "Requirement already satisfied: python-dateutil>=2.7.3 in /usr/local/lib/python3.7/dist-packages (from pandas>=0.24.2->tpot) (2.8.1)\n",
            "Requirement already satisfied: pytz>=2017.2 in /usr/local/lib/python3.7/dist-packages (from pandas>=0.24.2->tpot) (2018.9)\n",
            "Requirement already satisfied: certifi>=2017.4.17 in /usr/local/lib/python3.7/dist-packages (from requests>=2.3.0->update-checker>=0.16->tpot) (2020.12.5)\n",
            "Requirement already satisfied: chardet<4,>=3.0.2 in /usr/local/lib/python3.7/dist-packages (from requests>=2.3.0->update-checker>=0.16->tpot) (3.0.4)\n",
            "Requirement already satisfied: idna<3,>=2.5 in /usr/local/lib/python3.7/dist-packages (from requests>=2.3.0->update-checker>=0.16->tpot) (2.10)\n",
            "Requirement already satisfied: urllib3!=1.25.0,!=1.25.1,<1.26,>=1.21.1 in /usr/local/lib/python3.7/dist-packages (from requests>=2.3.0->update-checker>=0.16->tpot) (1.24.3)\n",
            "Requirement already satisfied: six>=1.5 in /usr/local/lib/python3.7/dist-packages (from python-dateutil>=2.7.3->pandas>=0.24.2->tpot) (1.15.0)\n",
            "Building wheels for collected packages: stopit\n",
            "  Building wheel for stopit (setup.py) ... \u001b[?25l\u001b[?25hdone\n",
            "  Created wheel for stopit: filename=stopit-1.1.2-cp37-none-any.whl size=11954 sha256=37c629f35be283332b5e8ada68d1afb281d47ca4df438ec8336f0c031733aa1f\n",
            "  Stored in directory: /root/.cache/pip/wheels/3c/85/2b/2580190404636bfc63e8de3dff629c03bb795021e1983a6cc7\n",
            "Successfully built stopit\n",
            "Installing collected packages: xgboost, update-checker, deap, stopit, tpot\n",
            "  Found existing installation: xgboost 0.90\n",
            "    Uninstalling xgboost-0.90:\n",
            "      Successfully uninstalled xgboost-0.90\n",
            "Successfully installed deap-1.3.1 stopit-1.1.2 tpot-0.11.7 update-checker-0.18.0 xgboost-1.3.3\n"
          ],
          "name": "stdout"
        }
      ]
    },
    {
      "cell_type": "markdown",
      "metadata": {
        "id": "tItxgq62GDeO"
      },
      "source": [
        "![alt text](https://raw.githubusercontent.com/EpistasisLab/tpot/master/images/tpot-ml-pipeline.png)"
      ]
    },
    {
      "cell_type": "markdown",
      "metadata": {
        "id": "A_PvjvCOGSnj"
      },
      "source": [
        "import TPOT packages and load Telecom Churn **dataset**"
      ]
    },
    {
      "cell_type": "code",
      "metadata": {
        "id": "f1qY6orwGFzw",
        "colab": {
          "base_uri": "https://localhost:8080/"
        },
        "outputId": "4056776b-254f-4267-ce8f-d21c326e7d1e"
      },
      "source": [
        "from tpot import  TPOTClassifier\n",
        "from sklearn.model_selection import train_test_split\n",
        "from __future__ import print_function\n",
        "import sys,tempfile, urllib, os\n",
        "import pandas as pd\n",
        "import numpy as np"
      ],
      "execution_count": 2,
      "outputs": [
        {
          "output_type": "stream",
          "text": [
            "/usr/local/lib/python3.7/dist-packages/sklearn/externals/six.py:31: FutureWarning: The module is deprecated in version 0.21 and will be removed in version 0.23 since we've dropped support for Python 2.7. Please rely on the official version of six (https://pypi.org/project/six/).\n",
            "  \"(https://pypi.org/project/six/).\", FutureWarning)\n",
            "/usr/local/lib/python3.7/dist-packages/sklearn/utils/deprecation.py:144: FutureWarning: The sklearn.neighbors.base module is  deprecated in version 0.22 and will be removed in version 0.24. The corresponding classes / functions should instead be imported from sklearn.neighbors. Anything that cannot be imported from sklearn.neighbors is now part of the private API.\n",
            "  warnings.warn(message, FutureWarning)\n"
          ],
          "name": "stderr"
        }
      ]
    },
    {
      "cell_type": "code",
      "metadata": {
        "id": "GiObHY_4GYXU"
      },
      "source": [
        "BASE_DIR = '/tmp'\n",
        "OUTPUT_FILE = os.path.join(BASE_DIR, 'churn_data.csv')\n",
        "\n",
        "churn_data=urllib.request.urlretrieve('https://github.com/karthik-DLCVNLP/AutoML/blob/main/WA_Fn-UseC_-Telco-Customer-Churn.csv', OUTPUT_FILE)"
      ],
      "execution_count": 10,
      "outputs": []
    },
    {
      "cell_type": "code",
      "metadata": {
        "colab": {
          "base_uri": "https://localhost:8080/",
          "height": 309
        },
        "id": "jQHn2Vt5GjzL",
        "outputId": "41ef6cb1-ba75-4202-fc5b-b59e88c58c5b"
      },
      "source": [
        "churn_df = pd.read_csv(OUTPUT_FILE)\n",
        "churn_df.head()"
      ],
      "execution_count": 11,
      "outputs": [
        {
          "output_type": "execute_result",
          "data": {
            "text/html": [
              "<div>\n",
              "<style scoped>\n",
              "    .dataframe tbody tr th:only-of-type {\n",
              "        vertical-align: middle;\n",
              "    }\n",
              "\n",
              "    .dataframe tbody tr th {\n",
              "        vertical-align: top;\n",
              "    }\n",
              "\n",
              "    .dataframe thead th {\n",
              "        text-align: right;\n",
              "    }\n",
              "</style>\n",
              "<table border=\"1\" class=\"dataframe\">\n",
              "  <thead>\n",
              "    <tr style=\"text-align: right;\">\n",
              "      <th></th>\n",
              "      <th>customerID</th>\n",
              "      <th>gender</th>\n",
              "      <th>SeniorCitizen</th>\n",
              "      <th>Partner</th>\n",
              "      <th>Dependents</th>\n",
              "      <th>tenure</th>\n",
              "      <th>PhoneService</th>\n",
              "      <th>MultipleLines</th>\n",
              "      <th>InternetService</th>\n",
              "      <th>OnlineSecurity</th>\n",
              "      <th>OnlineBackup</th>\n",
              "      <th>DeviceProtection</th>\n",
              "      <th>TechSupport</th>\n",
              "      <th>StreamingTV</th>\n",
              "      <th>StreamingMovies</th>\n",
              "      <th>Contract</th>\n",
              "      <th>PaperlessBilling</th>\n",
              "      <th>PaymentMethod</th>\n",
              "      <th>MonthlyCharges</th>\n",
              "      <th>TotalCharges</th>\n",
              "      <th>Churn</th>\n",
              "    </tr>\n",
              "  </thead>\n",
              "  <tbody>\n",
              "    <tr>\n",
              "      <th>0</th>\n",
              "      <td>7590-VHVEG</td>\n",
              "      <td>Female</td>\n",
              "      <td>0</td>\n",
              "      <td>Yes</td>\n",
              "      <td>No</td>\n",
              "      <td>1</td>\n",
              "      <td>No</td>\n",
              "      <td>No phone service</td>\n",
              "      <td>DSL</td>\n",
              "      <td>No</td>\n",
              "      <td>Yes</td>\n",
              "      <td>No</td>\n",
              "      <td>No</td>\n",
              "      <td>No</td>\n",
              "      <td>No</td>\n",
              "      <td>Month-to-month</td>\n",
              "      <td>Yes</td>\n",
              "      <td>Electronic check</td>\n",
              "      <td>29.85</td>\n",
              "      <td>29.85</td>\n",
              "      <td>No</td>\n",
              "    </tr>\n",
              "    <tr>\n",
              "      <th>1</th>\n",
              "      <td>5575-GNVDE</td>\n",
              "      <td>Male</td>\n",
              "      <td>0</td>\n",
              "      <td>No</td>\n",
              "      <td>No</td>\n",
              "      <td>34</td>\n",
              "      <td>Yes</td>\n",
              "      <td>No</td>\n",
              "      <td>DSL</td>\n",
              "      <td>Yes</td>\n",
              "      <td>No</td>\n",
              "      <td>Yes</td>\n",
              "      <td>No</td>\n",
              "      <td>No</td>\n",
              "      <td>No</td>\n",
              "      <td>One year</td>\n",
              "      <td>No</td>\n",
              "      <td>Mailed check</td>\n",
              "      <td>56.95</td>\n",
              "      <td>1889.5</td>\n",
              "      <td>No</td>\n",
              "    </tr>\n",
              "    <tr>\n",
              "      <th>2</th>\n",
              "      <td>3668-QPYBK</td>\n",
              "      <td>Male</td>\n",
              "      <td>0</td>\n",
              "      <td>No</td>\n",
              "      <td>No</td>\n",
              "      <td>2</td>\n",
              "      <td>Yes</td>\n",
              "      <td>No</td>\n",
              "      <td>DSL</td>\n",
              "      <td>Yes</td>\n",
              "      <td>Yes</td>\n",
              "      <td>No</td>\n",
              "      <td>No</td>\n",
              "      <td>No</td>\n",
              "      <td>No</td>\n",
              "      <td>Month-to-month</td>\n",
              "      <td>Yes</td>\n",
              "      <td>Mailed check</td>\n",
              "      <td>53.85</td>\n",
              "      <td>108.15</td>\n",
              "      <td>Yes</td>\n",
              "    </tr>\n",
              "    <tr>\n",
              "      <th>3</th>\n",
              "      <td>7795-CFOCW</td>\n",
              "      <td>Male</td>\n",
              "      <td>0</td>\n",
              "      <td>No</td>\n",
              "      <td>No</td>\n",
              "      <td>45</td>\n",
              "      <td>No</td>\n",
              "      <td>No phone service</td>\n",
              "      <td>DSL</td>\n",
              "      <td>Yes</td>\n",
              "      <td>No</td>\n",
              "      <td>Yes</td>\n",
              "      <td>Yes</td>\n",
              "      <td>No</td>\n",
              "      <td>No</td>\n",
              "      <td>One year</td>\n",
              "      <td>No</td>\n",
              "      <td>Bank transfer (automatic)</td>\n",
              "      <td>42.30</td>\n",
              "      <td>1840.75</td>\n",
              "      <td>No</td>\n",
              "    </tr>\n",
              "    <tr>\n",
              "      <th>4</th>\n",
              "      <td>9237-HQITU</td>\n",
              "      <td>Female</td>\n",
              "      <td>0</td>\n",
              "      <td>No</td>\n",
              "      <td>No</td>\n",
              "      <td>2</td>\n",
              "      <td>Yes</td>\n",
              "      <td>No</td>\n",
              "      <td>Fiber optic</td>\n",
              "      <td>No</td>\n",
              "      <td>No</td>\n",
              "      <td>No</td>\n",
              "      <td>No</td>\n",
              "      <td>No</td>\n",
              "      <td>No</td>\n",
              "      <td>Month-to-month</td>\n",
              "      <td>Yes</td>\n",
              "      <td>Electronic check</td>\n",
              "      <td>70.70</td>\n",
              "      <td>151.65</td>\n",
              "      <td>Yes</td>\n",
              "    </tr>\n",
              "  </tbody>\n",
              "</table>\n",
              "</div>"
            ],
            "text/plain": [
              "   customerID  gender  SeniorCitizen  ... MonthlyCharges TotalCharges  Churn\n",
              "0  7590-VHVEG  Female              0  ...          29.85        29.85     No\n",
              "1  5575-GNVDE    Male              0  ...          56.95       1889.5     No\n",
              "2  3668-QPYBK    Male              0  ...          53.85       108.15    Yes\n",
              "3  7795-CFOCW    Male              0  ...          42.30      1840.75     No\n",
              "4  9237-HQITU  Female              0  ...          70.70       151.65    Yes\n",
              "\n",
              "[5 rows x 21 columns]"
            ]
          },
          "metadata": {
            "tags": []
          },
          "execution_count": 11
        }
      ]
    },
    {
      "cell_type": "code",
      "metadata": {
        "colab": {
          "base_uri": "https://localhost:8080/"
        },
        "id": "JtlVhFc7Gp7z",
        "outputId": "610be945-404c-48b9-941f-f8bdb8576d1d"
      },
      "source": [
        "print (\"Rows     : \" ,churn_df.shape[0])\n",
        "print (\"Columns  : \" ,churn_df.shape[1])"
      ],
      "execution_count": null,
      "outputs": [
        {
          "output_type": "stream",
          "text": [
            "Rows     :  7043\n",
            "Columns  :  21\n"
          ],
          "name": "stdout"
        }
      ]
    },
    {
      "cell_type": "code",
      "metadata": {
        "colab": {
          "base_uri": "https://localhost:8080/"
        },
        "id": "jEGIGSNtJl9k",
        "outputId": "61fa8b87-ec68-4e5f-9b4c-ac68371a1aae"
      },
      "source": [
        "churn_df.isnull().sum()"
      ],
      "execution_count": null,
      "outputs": [
        {
          "output_type": "execute_result",
          "data": {
            "text/plain": [
              "customerID          0\n",
              "gender              0\n",
              "SeniorCitizen       0\n",
              "Partner             0\n",
              "Dependents          0\n",
              "tenure              0\n",
              "PhoneService        0\n",
              "MultipleLines       0\n",
              "InternetService     0\n",
              "OnlineSecurity      0\n",
              "OnlineBackup        0\n",
              "DeviceProtection    0\n",
              "TechSupport         0\n",
              "StreamingTV         0\n",
              "StreamingMovies     0\n",
              "Contract            0\n",
              "PaperlessBilling    0\n",
              "PaymentMethod       0\n",
              "MonthlyCharges      0\n",
              "TotalCharges        0\n",
              "Churn               0\n",
              "dtype: int64"
            ]
          },
          "metadata": {
            "tags": []
          },
          "execution_count": 60
        }
      ]
    },
    {
      "cell_type": "code",
      "metadata": {
        "colab": {
          "base_uri": "https://localhost:8080/"
        },
        "id": "t1NmaftqG1qZ",
        "outputId": "2d4c37fa-a771-4ac2-d9aa-6472f9b7d498"
      },
      "source": [
        "churn_df.columns"
      ],
      "execution_count": null,
      "outputs": [
        {
          "output_type": "execute_result",
          "data": {
            "text/plain": [
              "Index(['customerID', 'gender', 'SeniorCitizen', 'Partner', 'Dependents',\n",
              "       'tenure', 'PhoneService', 'MultipleLines', 'InternetService',\n",
              "       'OnlineSecurity', 'OnlineBackup', 'DeviceProtection', 'TechSupport',\n",
              "       'StreamingTV', 'StreamingMovies', 'Contract', 'PaperlessBilling',\n",
              "       'PaymentMethod', 'MonthlyCharges', 'TotalCharges', 'Churn'],\n",
              "      dtype='object')"
            ]
          },
          "metadata": {
            "tags": []
          },
          "execution_count": 61
        }
      ]
    },
    {
      "cell_type": "code",
      "metadata": {
        "id": "MnMj17UjG-BU"
      },
      "source": [
        "from sklearn.compose import make_column_transformer\n",
        "from sklearn.preprocessing import OrdinalEncoder\n",
        "categorical_columns = ['gender', 'Partner', 'Dependents','PhoneService','MultipleLines','InternetService','OnlineSecurity','OnlineBackup','DeviceProtection','TechSupport','StreamingTV','StreamingMovies','Contract','PaperlessBilling','PaymentMethod','Churn']\n",
        "column_trans = make_column_transformer((OrdinalEncoder(), categorical_columns))\n",
        "churn_transformed=column_trans.fit_transform(churn_df)"
      ],
      "execution_count": null,
      "outputs": []
    },
    {
      "cell_type": "code",
      "metadata": {
        "colab": {
          "base_uri": "https://localhost:8080/",
          "height": 419
        },
        "id": "zkmM1oWvHwFi",
        "outputId": "245c3112-88e6-46e5-8e2f-7c9d2897a05f"
      },
      "source": [
        "type(churn_transformed)\n",
        "pd.DataFrame(churn_transformed)"
      ],
      "execution_count": null,
      "outputs": [
        {
          "output_type": "execute_result",
          "data": {
            "text/html": [
              "<div>\n",
              "<style scoped>\n",
              "    .dataframe tbody tr th:only-of-type {\n",
              "        vertical-align: middle;\n",
              "    }\n",
              "\n",
              "    .dataframe tbody tr th {\n",
              "        vertical-align: top;\n",
              "    }\n",
              "\n",
              "    .dataframe thead th {\n",
              "        text-align: right;\n",
              "    }\n",
              "</style>\n",
              "<table border=\"1\" class=\"dataframe\">\n",
              "  <thead>\n",
              "    <tr style=\"text-align: right;\">\n",
              "      <th></th>\n",
              "      <th>0</th>\n",
              "      <th>1</th>\n",
              "      <th>2</th>\n",
              "      <th>3</th>\n",
              "      <th>4</th>\n",
              "      <th>5</th>\n",
              "      <th>6</th>\n",
              "      <th>7</th>\n",
              "      <th>8</th>\n",
              "      <th>9</th>\n",
              "      <th>10</th>\n",
              "      <th>11</th>\n",
              "      <th>12</th>\n",
              "      <th>13</th>\n",
              "      <th>14</th>\n",
              "      <th>15</th>\n",
              "    </tr>\n",
              "  </thead>\n",
              "  <tbody>\n",
              "    <tr>\n",
              "      <th>0</th>\n",
              "      <td>0.0</td>\n",
              "      <td>1.0</td>\n",
              "      <td>0.0</td>\n",
              "      <td>0.0</td>\n",
              "      <td>1.0</td>\n",
              "      <td>0.0</td>\n",
              "      <td>0.0</td>\n",
              "      <td>2.0</td>\n",
              "      <td>0.0</td>\n",
              "      <td>0.0</td>\n",
              "      <td>0.0</td>\n",
              "      <td>0.0</td>\n",
              "      <td>0.0</td>\n",
              "      <td>1.0</td>\n",
              "      <td>2.0</td>\n",
              "      <td>0.0</td>\n",
              "    </tr>\n",
              "    <tr>\n",
              "      <th>1</th>\n",
              "      <td>1.0</td>\n",
              "      <td>0.0</td>\n",
              "      <td>0.0</td>\n",
              "      <td>1.0</td>\n",
              "      <td>0.0</td>\n",
              "      <td>0.0</td>\n",
              "      <td>2.0</td>\n",
              "      <td>0.0</td>\n",
              "      <td>2.0</td>\n",
              "      <td>0.0</td>\n",
              "      <td>0.0</td>\n",
              "      <td>0.0</td>\n",
              "      <td>1.0</td>\n",
              "      <td>0.0</td>\n",
              "      <td>3.0</td>\n",
              "      <td>0.0</td>\n",
              "    </tr>\n",
              "    <tr>\n",
              "      <th>2</th>\n",
              "      <td>1.0</td>\n",
              "      <td>0.0</td>\n",
              "      <td>0.0</td>\n",
              "      <td>1.0</td>\n",
              "      <td>0.0</td>\n",
              "      <td>0.0</td>\n",
              "      <td>2.0</td>\n",
              "      <td>2.0</td>\n",
              "      <td>0.0</td>\n",
              "      <td>0.0</td>\n",
              "      <td>0.0</td>\n",
              "      <td>0.0</td>\n",
              "      <td>0.0</td>\n",
              "      <td>1.0</td>\n",
              "      <td>3.0</td>\n",
              "      <td>1.0</td>\n",
              "    </tr>\n",
              "    <tr>\n",
              "      <th>3</th>\n",
              "      <td>1.0</td>\n",
              "      <td>0.0</td>\n",
              "      <td>0.0</td>\n",
              "      <td>0.0</td>\n",
              "      <td>1.0</td>\n",
              "      <td>0.0</td>\n",
              "      <td>2.0</td>\n",
              "      <td>0.0</td>\n",
              "      <td>2.0</td>\n",
              "      <td>2.0</td>\n",
              "      <td>0.0</td>\n",
              "      <td>0.0</td>\n",
              "      <td>1.0</td>\n",
              "      <td>0.0</td>\n",
              "      <td>0.0</td>\n",
              "      <td>0.0</td>\n",
              "    </tr>\n",
              "    <tr>\n",
              "      <th>4</th>\n",
              "      <td>0.0</td>\n",
              "      <td>0.0</td>\n",
              "      <td>0.0</td>\n",
              "      <td>1.0</td>\n",
              "      <td>0.0</td>\n",
              "      <td>1.0</td>\n",
              "      <td>0.0</td>\n",
              "      <td>0.0</td>\n",
              "      <td>0.0</td>\n",
              "      <td>0.0</td>\n",
              "      <td>0.0</td>\n",
              "      <td>0.0</td>\n",
              "      <td>0.0</td>\n",
              "      <td>1.0</td>\n",
              "      <td>2.0</td>\n",
              "      <td>1.0</td>\n",
              "    </tr>\n",
              "    <tr>\n",
              "      <th>...</th>\n",
              "      <td>...</td>\n",
              "      <td>...</td>\n",
              "      <td>...</td>\n",
              "      <td>...</td>\n",
              "      <td>...</td>\n",
              "      <td>...</td>\n",
              "      <td>...</td>\n",
              "      <td>...</td>\n",
              "      <td>...</td>\n",
              "      <td>...</td>\n",
              "      <td>...</td>\n",
              "      <td>...</td>\n",
              "      <td>...</td>\n",
              "      <td>...</td>\n",
              "      <td>...</td>\n",
              "      <td>...</td>\n",
              "    </tr>\n",
              "    <tr>\n",
              "      <th>7038</th>\n",
              "      <td>1.0</td>\n",
              "      <td>1.0</td>\n",
              "      <td>1.0</td>\n",
              "      <td>1.0</td>\n",
              "      <td>2.0</td>\n",
              "      <td>0.0</td>\n",
              "      <td>2.0</td>\n",
              "      <td>0.0</td>\n",
              "      <td>2.0</td>\n",
              "      <td>2.0</td>\n",
              "      <td>2.0</td>\n",
              "      <td>2.0</td>\n",
              "      <td>1.0</td>\n",
              "      <td>1.0</td>\n",
              "      <td>3.0</td>\n",
              "      <td>0.0</td>\n",
              "    </tr>\n",
              "    <tr>\n",
              "      <th>7039</th>\n",
              "      <td>0.0</td>\n",
              "      <td>1.0</td>\n",
              "      <td>1.0</td>\n",
              "      <td>1.0</td>\n",
              "      <td>2.0</td>\n",
              "      <td>1.0</td>\n",
              "      <td>0.0</td>\n",
              "      <td>2.0</td>\n",
              "      <td>2.0</td>\n",
              "      <td>0.0</td>\n",
              "      <td>2.0</td>\n",
              "      <td>2.0</td>\n",
              "      <td>1.0</td>\n",
              "      <td>1.0</td>\n",
              "      <td>1.0</td>\n",
              "      <td>0.0</td>\n",
              "    </tr>\n",
              "    <tr>\n",
              "      <th>7040</th>\n",
              "      <td>0.0</td>\n",
              "      <td>1.0</td>\n",
              "      <td>1.0</td>\n",
              "      <td>0.0</td>\n",
              "      <td>1.0</td>\n",
              "      <td>0.0</td>\n",
              "      <td>2.0</td>\n",
              "      <td>0.0</td>\n",
              "      <td>0.0</td>\n",
              "      <td>0.0</td>\n",
              "      <td>0.0</td>\n",
              "      <td>0.0</td>\n",
              "      <td>0.0</td>\n",
              "      <td>1.0</td>\n",
              "      <td>2.0</td>\n",
              "      <td>0.0</td>\n",
              "    </tr>\n",
              "    <tr>\n",
              "      <th>7041</th>\n",
              "      <td>1.0</td>\n",
              "      <td>1.0</td>\n",
              "      <td>0.0</td>\n",
              "      <td>1.0</td>\n",
              "      <td>2.0</td>\n",
              "      <td>1.0</td>\n",
              "      <td>0.0</td>\n",
              "      <td>0.0</td>\n",
              "      <td>0.0</td>\n",
              "      <td>0.0</td>\n",
              "      <td>0.0</td>\n",
              "      <td>0.0</td>\n",
              "      <td>0.0</td>\n",
              "      <td>1.0</td>\n",
              "      <td>3.0</td>\n",
              "      <td>1.0</td>\n",
              "    </tr>\n",
              "    <tr>\n",
              "      <th>7042</th>\n",
              "      <td>1.0</td>\n",
              "      <td>0.0</td>\n",
              "      <td>0.0</td>\n",
              "      <td>1.0</td>\n",
              "      <td>0.0</td>\n",
              "      <td>1.0</td>\n",
              "      <td>2.0</td>\n",
              "      <td>0.0</td>\n",
              "      <td>2.0</td>\n",
              "      <td>2.0</td>\n",
              "      <td>2.0</td>\n",
              "      <td>2.0</td>\n",
              "      <td>2.0</td>\n",
              "      <td>1.0</td>\n",
              "      <td>0.0</td>\n",
              "      <td>0.0</td>\n",
              "    </tr>\n",
              "  </tbody>\n",
              "</table>\n",
              "<p>7043 rows × 16 columns</p>\n",
              "</div>"
            ],
            "text/plain": [
              "       0    1    2    3    4    5    6   ...   9    10   11   12   13   14   15\n",
              "0     0.0  1.0  0.0  0.0  1.0  0.0  0.0  ...  0.0  0.0  0.0  0.0  1.0  2.0  0.0\n",
              "1     1.0  0.0  0.0  1.0  0.0  0.0  2.0  ...  0.0  0.0  0.0  1.0  0.0  3.0  0.0\n",
              "2     1.0  0.0  0.0  1.0  0.0  0.0  2.0  ...  0.0  0.0  0.0  0.0  1.0  3.0  1.0\n",
              "3     1.0  0.0  0.0  0.0  1.0  0.0  2.0  ...  2.0  0.0  0.0  1.0  0.0  0.0  0.0\n",
              "4     0.0  0.0  0.0  1.0  0.0  1.0  0.0  ...  0.0  0.0  0.0  0.0  1.0  2.0  1.0\n",
              "...   ...  ...  ...  ...  ...  ...  ...  ...  ...  ...  ...  ...  ...  ...  ...\n",
              "7038  1.0  1.0  1.0  1.0  2.0  0.0  2.0  ...  2.0  2.0  2.0  1.0  1.0  3.0  0.0\n",
              "7039  0.0  1.0  1.0  1.0  2.0  1.0  0.0  ...  0.0  2.0  2.0  1.0  1.0  1.0  0.0\n",
              "7040  0.0  1.0  1.0  0.0  1.0  0.0  2.0  ...  0.0  0.0  0.0  0.0  1.0  2.0  0.0\n",
              "7041  1.0  1.0  0.0  1.0  2.0  1.0  0.0  ...  0.0  0.0  0.0  0.0  1.0  3.0  1.0\n",
              "7042  1.0  0.0  0.0  1.0  0.0  1.0  2.0  ...  2.0  2.0  2.0  2.0  1.0  0.0  0.0\n",
              "\n",
              "[7043 rows x 16 columns]"
            ]
          },
          "metadata": {
            "tags": []
          },
          "execution_count": 63
        }
      ]
    },
    {
      "cell_type": "code",
      "metadata": {
        "colab": {
          "base_uri": "https://localhost:8080/"
        },
        "id": "-JlGOtXUIB-U",
        "outputId": "84747a6f-4f23-4e81-b564-8cd35db1424a"
      },
      "source": [
        "churn_df.shape"
      ],
      "execution_count": null,
      "outputs": [
        {
          "output_type": "execute_result",
          "data": {
            "text/plain": [
              "(7043, 21)"
            ]
          },
          "metadata": {
            "tags": []
          },
          "execution_count": 64
        }
      ]
    },
    {
      "cell_type": "code",
      "metadata": {
        "id": "g0qGmhGzIWLr"
      },
      "source": [
        "churn_df_trans = churn_df.copy()\n",
        "churn_df_trans = pd.DataFrame(churn_transformed, columns=categorical_columns)"
      ],
      "execution_count": null,
      "outputs": []
    },
    {
      "cell_type": "code",
      "metadata": {
        "colab": {
          "base_uri": "https://localhost:8080/"
        },
        "id": "XO4NOxOaJAtz",
        "outputId": "722b72fa-2364-41ff-9fa6-284091b8e956"
      },
      "source": [
        "churn_df_trans.shape"
      ],
      "execution_count": null,
      "outputs": [
        {
          "output_type": "execute_result",
          "data": {
            "text/plain": [
              "(7043, 16)"
            ]
          },
          "metadata": {
            "tags": []
          },
          "execution_count": 66
        }
      ]
    },
    {
      "cell_type": "code",
      "metadata": {
        "colab": {
          "base_uri": "https://localhost:8080/",
          "height": 224
        },
        "id": "8pjgoJUNJE5f",
        "outputId": "6b88f5e5-d455-4f3b-f7c2-77f628aa1a51"
      },
      "source": [
        "churn_df_trans.head()"
      ],
      "execution_count": null,
      "outputs": [
        {
          "output_type": "execute_result",
          "data": {
            "text/html": [
              "<div>\n",
              "<style scoped>\n",
              "    .dataframe tbody tr th:only-of-type {\n",
              "        vertical-align: middle;\n",
              "    }\n",
              "\n",
              "    .dataframe tbody tr th {\n",
              "        vertical-align: top;\n",
              "    }\n",
              "\n",
              "    .dataframe thead th {\n",
              "        text-align: right;\n",
              "    }\n",
              "</style>\n",
              "<table border=\"1\" class=\"dataframe\">\n",
              "  <thead>\n",
              "    <tr style=\"text-align: right;\">\n",
              "      <th></th>\n",
              "      <th>gender</th>\n",
              "      <th>Partner</th>\n",
              "      <th>Dependents</th>\n",
              "      <th>PhoneService</th>\n",
              "      <th>MultipleLines</th>\n",
              "      <th>InternetService</th>\n",
              "      <th>OnlineSecurity</th>\n",
              "      <th>OnlineBackup</th>\n",
              "      <th>DeviceProtection</th>\n",
              "      <th>TechSupport</th>\n",
              "      <th>StreamingTV</th>\n",
              "      <th>StreamingMovies</th>\n",
              "      <th>Contract</th>\n",
              "      <th>PaperlessBilling</th>\n",
              "      <th>PaymentMethod</th>\n",
              "      <th>Churn</th>\n",
              "    </tr>\n",
              "  </thead>\n",
              "  <tbody>\n",
              "    <tr>\n",
              "      <th>0</th>\n",
              "      <td>0.0</td>\n",
              "      <td>1.0</td>\n",
              "      <td>0.0</td>\n",
              "      <td>0.0</td>\n",
              "      <td>1.0</td>\n",
              "      <td>0.0</td>\n",
              "      <td>0.0</td>\n",
              "      <td>2.0</td>\n",
              "      <td>0.0</td>\n",
              "      <td>0.0</td>\n",
              "      <td>0.0</td>\n",
              "      <td>0.0</td>\n",
              "      <td>0.0</td>\n",
              "      <td>1.0</td>\n",
              "      <td>2.0</td>\n",
              "      <td>0.0</td>\n",
              "    </tr>\n",
              "    <tr>\n",
              "      <th>1</th>\n",
              "      <td>1.0</td>\n",
              "      <td>0.0</td>\n",
              "      <td>0.0</td>\n",
              "      <td>1.0</td>\n",
              "      <td>0.0</td>\n",
              "      <td>0.0</td>\n",
              "      <td>2.0</td>\n",
              "      <td>0.0</td>\n",
              "      <td>2.0</td>\n",
              "      <td>0.0</td>\n",
              "      <td>0.0</td>\n",
              "      <td>0.0</td>\n",
              "      <td>1.0</td>\n",
              "      <td>0.0</td>\n",
              "      <td>3.0</td>\n",
              "      <td>0.0</td>\n",
              "    </tr>\n",
              "    <tr>\n",
              "      <th>2</th>\n",
              "      <td>1.0</td>\n",
              "      <td>0.0</td>\n",
              "      <td>0.0</td>\n",
              "      <td>1.0</td>\n",
              "      <td>0.0</td>\n",
              "      <td>0.0</td>\n",
              "      <td>2.0</td>\n",
              "      <td>2.0</td>\n",
              "      <td>0.0</td>\n",
              "      <td>0.0</td>\n",
              "      <td>0.0</td>\n",
              "      <td>0.0</td>\n",
              "      <td>0.0</td>\n",
              "      <td>1.0</td>\n",
              "      <td>3.0</td>\n",
              "      <td>1.0</td>\n",
              "    </tr>\n",
              "    <tr>\n",
              "      <th>3</th>\n",
              "      <td>1.0</td>\n",
              "      <td>0.0</td>\n",
              "      <td>0.0</td>\n",
              "      <td>0.0</td>\n",
              "      <td>1.0</td>\n",
              "      <td>0.0</td>\n",
              "      <td>2.0</td>\n",
              "      <td>0.0</td>\n",
              "      <td>2.0</td>\n",
              "      <td>2.0</td>\n",
              "      <td>0.0</td>\n",
              "      <td>0.0</td>\n",
              "      <td>1.0</td>\n",
              "      <td>0.0</td>\n",
              "      <td>0.0</td>\n",
              "      <td>0.0</td>\n",
              "    </tr>\n",
              "    <tr>\n",
              "      <th>4</th>\n",
              "      <td>0.0</td>\n",
              "      <td>0.0</td>\n",
              "      <td>0.0</td>\n",
              "      <td>1.0</td>\n",
              "      <td>0.0</td>\n",
              "      <td>1.0</td>\n",
              "      <td>0.0</td>\n",
              "      <td>0.0</td>\n",
              "      <td>0.0</td>\n",
              "      <td>0.0</td>\n",
              "      <td>0.0</td>\n",
              "      <td>0.0</td>\n",
              "      <td>0.0</td>\n",
              "      <td>1.0</td>\n",
              "      <td>2.0</td>\n",
              "      <td>1.0</td>\n",
              "    </tr>\n",
              "  </tbody>\n",
              "</table>\n",
              "</div>"
            ],
            "text/plain": [
              "   gender  Partner  Dependents  ...  PaperlessBilling  PaymentMethod  Churn\n",
              "0     0.0      1.0         0.0  ...               1.0            2.0    0.0\n",
              "1     1.0      0.0         0.0  ...               0.0            3.0    0.0\n",
              "2     1.0      0.0         0.0  ...               1.0            3.0    1.0\n",
              "3     1.0      0.0         0.0  ...               0.0            0.0    0.0\n",
              "4     0.0      0.0         0.0  ...               1.0            2.0    1.0\n",
              "\n",
              "[5 rows x 16 columns]"
            ]
          },
          "metadata": {
            "tags": []
          },
          "execution_count": 67
        }
      ]
    },
    {
      "cell_type": "code",
      "metadata": {
        "id": "6XLyIn7UJJF1"
      },
      "source": [
        "churn_df.update(churn_df_trans)"
      ],
      "execution_count": null,
      "outputs": []
    },
    {
      "cell_type": "code",
      "metadata": {
        "colab": {
          "base_uri": "https://localhost:8080/"
        },
        "id": "P5K--t3ZJRSA",
        "outputId": "f4f661b9-8f49-488c-d236-5e4661cd6eb1"
      },
      "source": [
        "churn_df.shape"
      ],
      "execution_count": null,
      "outputs": [
        {
          "output_type": "execute_result",
          "data": {
            "text/plain": [
              "(7043, 21)"
            ]
          },
          "metadata": {
            "tags": []
          },
          "execution_count": 69
        }
      ]
    },
    {
      "cell_type": "code",
      "metadata": {
        "colab": {
          "base_uri": "https://localhost:8080/",
          "height": 309
        },
        "id": "81T5vT0QJT-W",
        "outputId": "6520bc92-0f53-4047-8a2d-6d5e6e89b291"
      },
      "source": [
        "churn_df.head()"
      ],
      "execution_count": null,
      "outputs": [
        {
          "output_type": "execute_result",
          "data": {
            "text/html": [
              "<div>\n",
              "<style scoped>\n",
              "    .dataframe tbody tr th:only-of-type {\n",
              "        vertical-align: middle;\n",
              "    }\n",
              "\n",
              "    .dataframe tbody tr th {\n",
              "        vertical-align: top;\n",
              "    }\n",
              "\n",
              "    .dataframe thead th {\n",
              "        text-align: right;\n",
              "    }\n",
              "</style>\n",
              "<table border=\"1\" class=\"dataframe\">\n",
              "  <thead>\n",
              "    <tr style=\"text-align: right;\">\n",
              "      <th></th>\n",
              "      <th>customerID</th>\n",
              "      <th>gender</th>\n",
              "      <th>SeniorCitizen</th>\n",
              "      <th>Partner</th>\n",
              "      <th>Dependents</th>\n",
              "      <th>tenure</th>\n",
              "      <th>PhoneService</th>\n",
              "      <th>MultipleLines</th>\n",
              "      <th>InternetService</th>\n",
              "      <th>OnlineSecurity</th>\n",
              "      <th>OnlineBackup</th>\n",
              "      <th>DeviceProtection</th>\n",
              "      <th>TechSupport</th>\n",
              "      <th>StreamingTV</th>\n",
              "      <th>StreamingMovies</th>\n",
              "      <th>Contract</th>\n",
              "      <th>PaperlessBilling</th>\n",
              "      <th>PaymentMethod</th>\n",
              "      <th>MonthlyCharges</th>\n",
              "      <th>TotalCharges</th>\n",
              "      <th>Churn</th>\n",
              "    </tr>\n",
              "  </thead>\n",
              "  <tbody>\n",
              "    <tr>\n",
              "      <th>0</th>\n",
              "      <td>7590-VHVEG</td>\n",
              "      <td>0</td>\n",
              "      <td>0</td>\n",
              "      <td>1</td>\n",
              "      <td>0</td>\n",
              "      <td>1</td>\n",
              "      <td>0</td>\n",
              "      <td>1</td>\n",
              "      <td>0</td>\n",
              "      <td>0</td>\n",
              "      <td>2</td>\n",
              "      <td>0</td>\n",
              "      <td>0</td>\n",
              "      <td>0</td>\n",
              "      <td>0</td>\n",
              "      <td>0</td>\n",
              "      <td>1</td>\n",
              "      <td>2</td>\n",
              "      <td>29.85</td>\n",
              "      <td>29.85</td>\n",
              "      <td>0</td>\n",
              "    </tr>\n",
              "    <tr>\n",
              "      <th>1</th>\n",
              "      <td>5575-GNVDE</td>\n",
              "      <td>1</td>\n",
              "      <td>0</td>\n",
              "      <td>0</td>\n",
              "      <td>0</td>\n",
              "      <td>34</td>\n",
              "      <td>1</td>\n",
              "      <td>0</td>\n",
              "      <td>0</td>\n",
              "      <td>2</td>\n",
              "      <td>0</td>\n",
              "      <td>2</td>\n",
              "      <td>0</td>\n",
              "      <td>0</td>\n",
              "      <td>0</td>\n",
              "      <td>1</td>\n",
              "      <td>0</td>\n",
              "      <td>3</td>\n",
              "      <td>56.95</td>\n",
              "      <td>1889.5</td>\n",
              "      <td>0</td>\n",
              "    </tr>\n",
              "    <tr>\n",
              "      <th>2</th>\n",
              "      <td>3668-QPYBK</td>\n",
              "      <td>1</td>\n",
              "      <td>0</td>\n",
              "      <td>0</td>\n",
              "      <td>0</td>\n",
              "      <td>2</td>\n",
              "      <td>1</td>\n",
              "      <td>0</td>\n",
              "      <td>0</td>\n",
              "      <td>2</td>\n",
              "      <td>2</td>\n",
              "      <td>0</td>\n",
              "      <td>0</td>\n",
              "      <td>0</td>\n",
              "      <td>0</td>\n",
              "      <td>0</td>\n",
              "      <td>1</td>\n",
              "      <td>3</td>\n",
              "      <td>53.85</td>\n",
              "      <td>108.15</td>\n",
              "      <td>1</td>\n",
              "    </tr>\n",
              "    <tr>\n",
              "      <th>3</th>\n",
              "      <td>7795-CFOCW</td>\n",
              "      <td>1</td>\n",
              "      <td>0</td>\n",
              "      <td>0</td>\n",
              "      <td>0</td>\n",
              "      <td>45</td>\n",
              "      <td>0</td>\n",
              "      <td>1</td>\n",
              "      <td>0</td>\n",
              "      <td>2</td>\n",
              "      <td>0</td>\n",
              "      <td>2</td>\n",
              "      <td>2</td>\n",
              "      <td>0</td>\n",
              "      <td>0</td>\n",
              "      <td>1</td>\n",
              "      <td>0</td>\n",
              "      <td>0</td>\n",
              "      <td>42.30</td>\n",
              "      <td>1840.75</td>\n",
              "      <td>0</td>\n",
              "    </tr>\n",
              "    <tr>\n",
              "      <th>4</th>\n",
              "      <td>9237-HQITU</td>\n",
              "      <td>0</td>\n",
              "      <td>0</td>\n",
              "      <td>0</td>\n",
              "      <td>0</td>\n",
              "      <td>2</td>\n",
              "      <td>1</td>\n",
              "      <td>0</td>\n",
              "      <td>1</td>\n",
              "      <td>0</td>\n",
              "      <td>0</td>\n",
              "      <td>0</td>\n",
              "      <td>0</td>\n",
              "      <td>0</td>\n",
              "      <td>0</td>\n",
              "      <td>0</td>\n",
              "      <td>1</td>\n",
              "      <td>2</td>\n",
              "      <td>70.70</td>\n",
              "      <td>151.65</td>\n",
              "      <td>1</td>\n",
              "    </tr>\n",
              "  </tbody>\n",
              "</table>\n",
              "</div>"
            ],
            "text/plain": [
              "   customerID gender  SeniorCitizen  ... MonthlyCharges TotalCharges  Churn\n",
              "0  7590-VHVEG      0              0  ...          29.85        29.85      0\n",
              "1  5575-GNVDE      1              0  ...          56.95       1889.5      0\n",
              "2  3668-QPYBK      1              0  ...          53.85       108.15      1\n",
              "3  7795-CFOCW      1              0  ...          42.30      1840.75      0\n",
              "4  9237-HQITU      0              0  ...          70.70       151.65      1\n",
              "\n",
              "[5 rows x 21 columns]"
            ]
          },
          "metadata": {
            "tags": []
          },
          "execution_count": 70
        }
      ]
    },
    {
      "cell_type": "code",
      "metadata": {
        "colab": {
          "base_uri": "https://localhost:8080/"
        },
        "id": "w3rXRpO3JYxm",
        "outputId": "e54be7a1-0ff1-4ed9-da8d-e2dbd09826ca"
      },
      "source": [
        "churn_df.isnull().sum()"
      ],
      "execution_count": null,
      "outputs": [
        {
          "output_type": "execute_result",
          "data": {
            "text/plain": [
              "customerID          0\n",
              "gender              0\n",
              "SeniorCitizen       0\n",
              "Partner             0\n",
              "Dependents          0\n",
              "tenure              0\n",
              "PhoneService        0\n",
              "MultipleLines       0\n",
              "InternetService     0\n",
              "OnlineSecurity      0\n",
              "OnlineBackup        0\n",
              "DeviceProtection    0\n",
              "TechSupport         0\n",
              "StreamingTV         0\n",
              "StreamingMovies     0\n",
              "Contract            0\n",
              "PaperlessBilling    0\n",
              "PaymentMethod       0\n",
              "MonthlyCharges      0\n",
              "TotalCharges        0\n",
              "Churn               0\n",
              "dtype: int64"
            ]
          },
          "metadata": {
            "tags": []
          },
          "execution_count": 71
        }
      ]
    },
    {
      "cell_type": "code",
      "metadata": {
        "colab": {
          "base_uri": "https://localhost:8080/"
        },
        "id": "T0l25bmxJhSE",
        "outputId": "52bc8704-77e1-4ece-d89b-2f6e4ef3b94d"
      },
      "source": [
        "churn_df.replace(r'^\\s*$', np.nan, regex=True).isna().sum()"
      ],
      "execution_count": null,
      "outputs": [
        {
          "output_type": "execute_result",
          "data": {
            "text/plain": [
              "customerID           0\n",
              "gender               0\n",
              "SeniorCitizen        0\n",
              "Partner              0\n",
              "Dependents           0\n",
              "tenure               0\n",
              "PhoneService         0\n",
              "MultipleLines        0\n",
              "InternetService      0\n",
              "OnlineSecurity       0\n",
              "OnlineBackup         0\n",
              "DeviceProtection     0\n",
              "TechSupport          0\n",
              "StreamingTV          0\n",
              "StreamingMovies      0\n",
              "Contract             0\n",
              "PaperlessBilling     0\n",
              "PaymentMethod        0\n",
              "MonthlyCharges       0\n",
              "TotalCharges        11\n",
              "Churn                0\n",
              "dtype: int64"
            ]
          },
          "metadata": {
            "tags": []
          },
          "execution_count": 72
        }
      ]
    },
    {
      "cell_type": "code",
      "metadata": {
        "id": "bp6Lp7KsLBti"
      },
      "source": [
        "churn_df = churn_df.replace(r'^\\s*$', np.nan, regex=True)"
      ],
      "execution_count": null,
      "outputs": []
    },
    {
      "cell_type": "code",
      "metadata": {
        "colab": {
          "base_uri": "https://localhost:8080/"
        },
        "id": "zoTs8guCLGvk",
        "outputId": "9183588f-b02f-4c97-80ff-2002a994641c"
      },
      "source": [
        "churn_df.isna().sum()"
      ],
      "execution_count": null,
      "outputs": [
        {
          "output_type": "execute_result",
          "data": {
            "text/plain": [
              "customerID           0\n",
              "gender               0\n",
              "SeniorCitizen        0\n",
              "Partner              0\n",
              "Dependents           0\n",
              "tenure               0\n",
              "PhoneService         0\n",
              "MultipleLines        0\n",
              "InternetService      0\n",
              "OnlineSecurity       0\n",
              "OnlineBackup         0\n",
              "DeviceProtection     0\n",
              "TechSupport          0\n",
              "StreamingTV          0\n",
              "StreamingMovies      0\n",
              "Contract             0\n",
              "PaperlessBilling     0\n",
              "PaymentMethod        0\n",
              "MonthlyCharges       0\n",
              "TotalCharges        11\n",
              "Churn                0\n",
              "dtype: int64"
            ]
          },
          "metadata": {
            "tags": []
          },
          "execution_count": 74
        }
      ]
    },
    {
      "cell_type": "code",
      "metadata": {
        "colab": {
          "base_uri": "https://localhost:8080/"
        },
        "id": "kek0Dg7TLJOq",
        "outputId": "f3a014d5-2a02-4fc4-a79e-d34a8cdba23a"
      },
      "source": [
        "churn_df.dtypes"
      ],
      "execution_count": null,
      "outputs": [
        {
          "output_type": "execute_result",
          "data": {
            "text/plain": [
              "customerID           object\n",
              "gender              float64\n",
              "SeniorCitizen         int64\n",
              "Partner             float64\n",
              "Dependents          float64\n",
              "tenure                int64\n",
              "PhoneService        float64\n",
              "MultipleLines       float64\n",
              "InternetService     float64\n",
              "OnlineSecurity      float64\n",
              "OnlineBackup        float64\n",
              "DeviceProtection    float64\n",
              "TechSupport         float64\n",
              "StreamingTV         float64\n",
              "StreamingMovies     float64\n",
              "Contract            float64\n",
              "PaperlessBilling    float64\n",
              "PaymentMethod       float64\n",
              "MonthlyCharges      float64\n",
              "TotalCharges         object\n",
              "Churn               float64\n",
              "dtype: object"
            ]
          },
          "metadata": {
            "tags": []
          },
          "execution_count": 47
        }
      ]
    },
    {
      "cell_type": "code",
      "metadata": {
        "id": "CtInj-b9LPxD"
      },
      "source": [
        "churn_df.iloc[:, 19] = pd.to_numeric(churn_df.iloc[:, 19], errors='coerce') "
      ],
      "execution_count": null,
      "outputs": []
    },
    {
      "cell_type": "code",
      "metadata": {
        "colab": {
          "base_uri": "https://localhost:8080/"
        },
        "id": "UzqKxveuLbpP",
        "outputId": "b8527086-8e4b-4736-918c-336405ac1405"
      },
      "source": [
        "churn_df.dtypes"
      ],
      "execution_count": null,
      "outputs": [
        {
          "output_type": "execute_result",
          "data": {
            "text/plain": [
              "customerID           object\n",
              "gender              float64\n",
              "SeniorCitizen         int64\n",
              "Partner             float64\n",
              "Dependents          float64\n",
              "tenure                int64\n",
              "PhoneService        float64\n",
              "MultipleLines       float64\n",
              "InternetService     float64\n",
              "OnlineSecurity      float64\n",
              "OnlineBackup        float64\n",
              "DeviceProtection    float64\n",
              "TechSupport         float64\n",
              "StreamingTV         float64\n",
              "StreamingMovies     float64\n",
              "Contract            float64\n",
              "PaperlessBilling    float64\n",
              "PaymentMethod       float64\n",
              "MonthlyCharges      float64\n",
              "TotalCharges        float64\n",
              "Churn               float64\n",
              "dtype: object"
            ]
          },
          "metadata": {
            "tags": []
          },
          "execution_count": 49
        }
      ]
    },
    {
      "cell_type": "code",
      "metadata": {
        "id": "6PMyzvFaNDpE"
      },
      "source": [
        "from sklearn.impute import SimpleImputer\n",
        "imp_median = SimpleImputer(missing_values=np.nan, strategy='median')"
      ],
      "execution_count": null,
      "outputs": []
    },
    {
      "cell_type": "code",
      "metadata": {
        "id": "p80SMnDWNuP5"
      },
      "source": [
        "churn_df.iloc[:, 19] = imp_median.fit_transform(churn_df.iloc[:, 19].values.reshape(-1, 1) )"
      ],
      "execution_count": null,
      "outputs": []
    },
    {
      "cell_type": "code",
      "metadata": {
        "colab": {
          "base_uri": "https://localhost:8080/"
        },
        "id": "nRdwtZXvNzRU",
        "outputId": "55540109-e41b-4ce7-bc0f-590a50185ef1"
      },
      "source": [
        "churn_df.isna().sum()"
      ],
      "execution_count": null,
      "outputs": [
        {
          "output_type": "execute_result",
          "data": {
            "text/plain": [
              "customerID          0\n",
              "gender              0\n",
              "SeniorCitizen       0\n",
              "Partner             0\n",
              "Dependents          0\n",
              "tenure              0\n",
              "PhoneService        0\n",
              "MultipleLines       0\n",
              "InternetService     0\n",
              "OnlineSecurity      0\n",
              "OnlineBackup        0\n",
              "DeviceProtection    0\n",
              "TechSupport         0\n",
              "StreamingTV         0\n",
              "StreamingMovies     0\n",
              "Contract            0\n",
              "PaperlessBilling    0\n",
              "PaymentMethod       0\n",
              "MonthlyCharges      0\n",
              "TotalCharges        0\n",
              "Churn               0\n",
              "dtype: int64"
            ]
          },
          "metadata": {
            "tags": []
          },
          "execution_count": 78
        }
      ]
    },
    {
      "cell_type": "code",
      "metadata": {
        "id": "8CLAzXuiOS6F"
      },
      "source": [
        "churn_df_X = churn_df.drop(\"Churn\", axis=1)\n",
        "churn_df_X = churn_df_X.drop(\"customerID\", axis=1)\n",
        "churn_df_y = churn_df['Churn']"
      ],
      "execution_count": null,
      "outputs": []
    },
    {
      "cell_type": "code",
      "metadata": {
        "id": "-R_3GVcxO_2J"
      },
      "source": [
        "X_train, X_test, y_train, y_test = train_test_split(churn_df_X, churn_df_y, train_size=0.75, test_size=0.25)"
      ],
      "execution_count": null,
      "outputs": []
    },
    {
      "cell_type": "code",
      "metadata": {
        "id": "N2MCLdaJPUW4"
      },
      "source": [
        ""
      ],
      "execution_count": null,
      "outputs": []
    },
    {
      "cell_type": "markdown",
      "metadata": {
        "id": "DX_CrZa7PZa6"
      },
      "source": [
        "**Use TPOT classifier to find the best model algorithm that fits the data. TPOT uses genetic algorithm based search internally**\n"
      ]
    },
    {
      "cell_type": "code",
      "metadata": {
        "colab": {
          "base_uri": "https://localhost:8080/",
          "height": 394,
          "referenced_widgets": [
            "0b57367bae7441efbc985fd3aa5debdb",
            "d54fdcc48bc748f9a5abe58d4be3fb80",
            "1bd053cac058424681037065ff9bf178",
            "9dcac41ec592492c8689834c629e9618",
            "fd6dc023b064470ba3488983c0d69dcc",
            "b5beb04239084805b44d1809afc40295",
            "8f817a7200524a0abd9a548ea9c4510e",
            "da72641b8d304c25a383406c40a7c0c0"
          ]
        },
        "id": "7Mmxe7t2PaON",
        "outputId": "37ac6294-6a10-47af-9cc2-2331b1aa909a"
      },
      "source": [
        "tpot =  TPOTClassifier(generations=4, population_size=10, verbosity=3)\n",
        "tpot.fit(X_train, y_train)\n",
        "print(tpot.score(X_test, y_test))"
      ],
      "execution_count": null,
      "outputs": [
        {
          "output_type": "stream",
          "text": [
            "32 operators have been imported by TPOT.\n"
          ],
          "name": "stdout"
        },
        {
          "output_type": "display_data",
          "data": {
            "application/vnd.jupyter.widget-view+json": {
              "model_id": "0b57367bae7441efbc985fd3aa5debdb",
              "version_major": 2,
              "version_minor": 0
            },
            "text/plain": [
              "HBox(children=(FloatProgress(value=0.0, description='Optimization Progress', max=50.0, style=ProgressStyle(des…"
            ]
          },
          "metadata": {
            "tags": []
          }
        },
        {
          "output_type": "stream",
          "text": [
            "\r_pre_test decorator: _random_mutation_operator: num_test=0 Solver lbfgs supports only 'l2' or 'none' penalties, got l1 penalty..\n",
            "_pre_test decorator: _random_mutation_operator: num_test=0 Expected n_neighbors <= n_samples,  but n_samples = 50, n_neighbors = 94.\n",
            "\n",
            "Generation 1 - Current Pareto front scores:\n",
            "\n",
            "-1\t0.8099228448152289\tRandomForestClassifier(input_matrix, RandomForestClassifier__bootstrap=True, RandomForestClassifier__criterion=entropy, RandomForestClassifier__max_features=0.35000000000000003, RandomForestClassifier__min_samples_leaf=17, RandomForestClassifier__min_samples_split=6, RandomForestClassifier__n_estimators=100)\n",
            "\n",
            "Generation 2 - Current Pareto front scores:\n",
            "\n",
            "-1\t0.8101118803933373\tRandomForestClassifier(input_matrix, RandomForestClassifier__bootstrap=True, RandomForestClassifier__criterion=entropy, RandomForestClassifier__max_features=0.6500000000000001, RandomForestClassifier__min_samples_leaf=16, RandomForestClassifier__min_samples_split=19, RandomForestClassifier__n_estimators=100)\n",
            "_pre_test decorator: _random_mutation_operator: num_test=0 Solver lbfgs supports only 'l2' or 'none' penalties, got l1 penalty..\n",
            "\n",
            "Generation 3 - Current Pareto front scores:\n",
            "\n",
            "-1\t0.8101118803933373\tRandomForestClassifier(input_matrix, RandomForestClassifier__bootstrap=True, RandomForestClassifier__criterion=entropy, RandomForestClassifier__max_features=0.6500000000000001, RandomForestClassifier__min_samples_leaf=16, RandomForestClassifier__min_samples_split=19, RandomForestClassifier__n_estimators=100)\n",
            "\n",
            "Generation 4 - Current Pareto front scores:\n",
            "\n",
            "-1\t0.8101118803933373\tRandomForestClassifier(input_matrix, RandomForestClassifier__bootstrap=True, RandomForestClassifier__criterion=entropy, RandomForestClassifier__max_features=0.6500000000000001, RandomForestClassifier__min_samples_leaf=16, RandomForestClassifier__min_samples_split=19, RandomForestClassifier__n_estimators=100)\n",
            "0.7796706416808632\n"
          ],
          "name": "stdout"
        }
      ]
    },
    {
      "cell_type": "code",
      "metadata": {
        "colab": {
          "base_uri": "https://localhost:8080/",
          "height": 119,
          "referenced_widgets": [
            "4ff6e4d84e85436ca2304eb1b79e3ae0",
            "ce1f03951d8b49f28d868c765ea22032",
            "3b122e1b89b04b3e84cea226ee0d1418",
            "510b50611f4c488296da840bd11b6f75",
            "e59f383dbf17486c9a6d4db8871fdeed",
            "949e1cfe799646e3811f21aa490670cf",
            "c9b31e74cf774652a6341b4affffd0f1",
            "2ef637976778484c8c9a95709c39b444"
          ]
        },
        "id": "GmIl5hQ7Pp0P",
        "outputId": "8af8227b-e46e-433b-a99b-b1705f4709f0"
      },
      "source": [
        "import multiprocessing\n",
        "if __name__ == '__main__':\n",
        "    multiprocessing.set_start_method('forkserver', force=True)\n",
        "    tpot =  TPOTClassifier(generations=2, population_size=20, verbosity=2,n_jobs = 20, random_state=50)\n",
        "    tpot.fit(X_train, y_train)"
      ],
      "execution_count": null,
      "outputs": [
        {
          "output_type": "display_data",
          "data": {
            "application/vnd.jupyter.widget-view+json": {
              "model_id": "4ff6e4d84e85436ca2304eb1b79e3ae0",
              "version_major": 2,
              "version_minor": 0
            },
            "text/plain": [
              "HBox(children=(FloatProgress(value=0.0, description='Optimization Progress', max=60.0, style=ProgressStyle(des…"
            ]
          },
          "metadata": {
            "tags": []
          }
        },
        {
          "output_type": "stream",
          "text": [
            "\r\n",
            "Generation 1 - Current best internal CV score: 0.8133319357243198\n",
            "\n",
            "Generation 2 - Current best internal CV score: 0.8133319357243198\n",
            "\n",
            "Best pipeline: XGBClassifier(input_matrix, learning_rate=0.5, max_depth=1, min_child_weight=14, n_estimators=100, n_jobs=1, subsample=0.5, verbosity=0)\n"
          ],
          "name": "stdout"
        }
      ]
    },
    {
      "cell_type": "code",
      "metadata": {
        "colab": {
          "base_uri": "https://localhost:8080/"
        },
        "id": "2J09nxKHP2kS",
        "outputId": "9feb494d-6ee6-44bb-fba7-f18eb3245c43"
      },
      "source": [
        "print(tpot.score(X_test, y_test))"
      ],
      "execution_count": null,
      "outputs": [
        {
          "output_type": "stream",
          "text": [
            "0.7984099943214082\n"
          ],
          "name": "stdout"
        }
      ]
    },
    {
      "cell_type": "markdown",
      "metadata": {
        "id": "vWPZKBIZRmrV"
      },
      "source": [
        "Export the scikit learn code for best classifier and dispay the code"
      ]
    },
    {
      "cell_type": "code",
      "metadata": {
        "id": "vZrLRF6TRnar"
      },
      "source": [
        "tpot.export('tpot_churn_pipeline.py')"
      ],
      "execution_count": null,
      "outputs": []
    },
    {
      "cell_type": "code",
      "metadata": {
        "colab": {
          "base_uri": "https://localhost:8080/"
        },
        "id": "B1bUdg14SgYq",
        "outputId": "57893452-b52a-4d53-b1fc-4f9495f19053"
      },
      "source": [
        "!cat tpot_churn_pipeline.py"
      ],
      "execution_count": null,
      "outputs": [
        {
          "output_type": "stream",
          "text": [
            "import numpy as np\n",
            "import pandas as pd\n",
            "from sklearn.model_selection import train_test_split\n",
            "from xgboost import XGBClassifier\n",
            "\n",
            "# NOTE: Make sure that the outcome column is labeled 'target' in the data file\n",
            "tpot_data = pd.read_csv('PATH/TO/DATA/FILE', sep='COLUMN_SEPARATOR', dtype=np.float64)\n",
            "features = tpot_data.drop('target', axis=1)\n",
            "training_features, testing_features, training_target, testing_target = \\\n",
            "            train_test_split(features, tpot_data['target'], random_state=50)\n",
            "\n",
            "# Average CV score on the training set was: 0.8133319357243198\n",
            "exported_pipeline = XGBClassifier(learning_rate=0.5, max_depth=1, min_child_weight=14, n_estimators=100, n_jobs=1, subsample=0.5, verbosity=0)\n",
            "# Fix random state in exported estimator\n",
            "if hasattr(exported_pipeline, 'random_state'):\n",
            "    setattr(exported_pipeline, 'random_state', 50)\n",
            "\n",
            "exported_pipeline.fit(training_features, training_target)\n",
            "results = exported_pipeline.predict(testing_features)\n"
          ],
          "name": "stdout"
        }
      ]
    },
    {
      "cell_type": "markdown",
      "metadata": {
        "id": "d3_EqEHXRvq7"
      },
      "source": [
        "Get details on algorithm TPOT searched for and how the performed on the dataset"
      ]
    },
    {
      "cell_type": "code",
      "metadata": {
        "colab": {
          "base_uri": "https://localhost:8080/"
        },
        "id": "_nQqi7nsRwj9",
        "outputId": "0b18ad9b-a1d1-4e22-96b3-b5924db48749"
      },
      "source": [
        "tpot.evaluated_individuals_"
      ],
      "execution_count": null,
      "outputs": [
        {
          "output_type": "execute_result",
          "data": {
            "text/plain": [
              "{'BernoulliNB(GradientBoostingClassifier(input_matrix, GradientBoostingClassifier__learning_rate=1.0, GradientBoostingClassifier__max_depth=3, GradientBoostingClassifier__max_features=0.8, GradientBoostingClassifier__min_samples_leaf=11, GradientBoostingClassifier__min_samples_split=19, GradientBoostingClassifier__n_estimators=100, GradientBoostingClassifier__subsample=0.45), BernoulliNB__alpha=1.0, BernoulliNB__fit_prior=False)': {'crossover_count': 0,\n",
              "  'generation': 0,\n",
              "  'internal_cv_score': 0.7391145967718815,\n",
              "  'mutation_count': 0,\n",
              "  'operator_count': 2,\n",
              "  'predecessor': ('ROOT',)},\n",
              " 'BernoulliNB(GradientBoostingClassifier(input_matrix, GradientBoostingClassifier__learning_rate=1.0, GradientBoostingClassifier__max_depth=3, GradientBoostingClassifier__max_features=0.8, GradientBoostingClassifier__min_samples_leaf=11, GradientBoostingClassifier__min_samples_split=19, GradientBoostingClassifier__n_estimators=100, GradientBoostingClassifier__subsample=0.45), BernoulliNB__alpha=1.0, BernoulliNB__fit_prior=True)': {'crossover_count': 0,\n",
              "  'generation': 1,\n",
              "  'internal_cv_score': 0.7610796350448668,\n",
              "  'mutation_count': 1,\n",
              "  'operator_count': 2,\n",
              "  'predecessor': ('BernoulliNB(GradientBoostingClassifier(input_matrix, GradientBoostingClassifier__learning_rate=1.0, GradientBoostingClassifier__max_depth=3, GradientBoostingClassifier__max_features=0.8, GradientBoostingClassifier__min_samples_leaf=11, GradientBoostingClassifier__min_samples_split=19, GradientBoostingClassifier__n_estimators=100, GradientBoostingClassifier__subsample=0.45), BernoulliNB__alpha=1.0, BernoulliNB__fit_prior=False)',)},\n",
              " 'BernoulliNB(RBFSampler(input_matrix, RBFSampler__gamma=0.5), BernoulliNB__alpha=10.0, BernoulliNB__fit_prior=True)': {'crossover_count': 0,\n",
              "  'generation': 1,\n",
              "  'internal_cv_score': 0.7360837561996502,\n",
              "  'mutation_count': 1,\n",
              "  'operator_count': 2,\n",
              "  'predecessor': ('BernoulliNB(input_matrix, BernoulliNB__alpha=10.0, BernoulliNB__fit_prior=True)',)},\n",
              " 'BernoulliNB(input_matrix, BernoulliNB__alpha=1.0, BernoulliNB__fit_prior=False)': {'crossover_count': 0,\n",
              "  'generation': 0,\n",
              "  'internal_cv_score': 0.7224558140534962,\n",
              "  'mutation_count': 0,\n",
              "  'operator_count': 1,\n",
              "  'predecessor': ('ROOT',)},\n",
              " 'BernoulliNB(input_matrix, BernoulliNB__alpha=10.0, BernoulliNB__fit_prior=True)': {'crossover_count': 0,\n",
              "  'generation': 0,\n",
              "  'internal_cv_score': 0.7523694848198159,\n",
              "  'mutation_count': 0,\n",
              "  'operator_count': 1,\n",
              "  'predecessor': ('ROOT',)},\n",
              " 'DecisionTreeClassifier(RobustScaler(input_matrix), DecisionTreeClassifier__criterion=gini, DecisionTreeClassifier__max_depth=8, DecisionTreeClassifier__min_samples_leaf=8, DecisionTreeClassifier__min_samples_split=3)': {'crossover_count': 0,\n",
              "  'generation': 0,\n",
              "  'internal_cv_score': 0.7830385811759984,\n",
              "  'mutation_count': 0,\n",
              "  'operator_count': 2,\n",
              "  'predecessor': ('ROOT',)},\n",
              " 'DecisionTreeClassifier(input_matrix, DecisionTreeClassifier__criterion=gini, DecisionTreeClassifier__max_depth=8, DecisionTreeClassifier__min_samples_leaf=8, DecisionTreeClassifier__min_samples_split=3)': {'crossover_count': 0,\n",
              "  'generation': 2,\n",
              "  'internal_cv_score': 0.7830385811759984,\n",
              "  'mutation_count': 1,\n",
              "  'operator_count': 1,\n",
              "  'predecessor': ('DecisionTreeClassifier(RobustScaler(input_matrix), DecisionTreeClassifier__criterion=gini, DecisionTreeClassifier__max_depth=8, DecisionTreeClassifier__min_samples_leaf=8, DecisionTreeClassifier__min_samples_split=3)',)},\n",
              " 'ExtraTreesClassifier(Binarizer(input_matrix, Binarizer__threshold=0.4), ExtraTreesClassifier__bootstrap=False, ExtraTreesClassifier__criterion=entropy, ExtraTreesClassifier__max_features=0.6000000000000001, ExtraTreesClassifier__min_samples_leaf=13, ExtraTreesClassifier__min_samples_split=14, ExtraTreesClassifier__n_estimators=100)': {'crossover_count': 0,\n",
              "  'generation': 2,\n",
              "  'internal_cv_score': 0.7754680198388808,\n",
              "  'mutation_count': 1,\n",
              "  'operator_count': 2,\n",
              "  'predecessor': ('ExtraTreesClassifier(input_matrix, ExtraTreesClassifier__bootstrap=False, ExtraTreesClassifier__criterion=entropy, ExtraTreesClassifier__max_features=0.6000000000000001, ExtraTreesClassifier__min_samples_leaf=13, ExtraTreesClassifier__min_samples_split=14, ExtraTreesClassifier__n_estimators=100)',)},\n",
              " 'ExtraTreesClassifier(ExtraTreesClassifier(input_matrix, ExtraTreesClassifier__bootstrap=True, ExtraTreesClassifier__criterion=gini, ExtraTreesClassifier__max_features=0.9000000000000001, ExtraTreesClassifier__min_samples_leaf=19, ExtraTreesClassifier__min_samples_split=7, ExtraTreesClassifier__n_estimators=100), ExtraTreesClassifier__bootstrap=False, ExtraTreesClassifier__criterion=entropy, ExtraTreesClassifier__max_features=0.6000000000000001, ExtraTreesClassifier__min_samples_leaf=13, ExtraTreesClassifier__min_samples_split=14, ExtraTreesClassifier__n_estimators=100)': {'crossover_count': 0,\n",
              "  'generation': 2,\n",
              "  'internal_cv_score': 0.8032956695622258,\n",
              "  'mutation_count': 2,\n",
              "  'operator_count': 2,\n",
              "  'predecessor': ('ExtraTreesClassifier(StandardScaler(input_matrix), ExtraTreesClassifier__bootstrap=False, ExtraTreesClassifier__criterion=entropy, ExtraTreesClassifier__max_features=0.6000000000000001, ExtraTreesClassifier__min_samples_leaf=13, ExtraTreesClassifier__min_samples_split=14, ExtraTreesClassifier__n_estimators=100)',)},\n",
              " 'ExtraTreesClassifier(KNeighborsClassifier(input_matrix, KNeighborsClassifier__n_neighbors=49, KNeighborsClassifier__p=2, KNeighborsClassifier__weights=distance), ExtraTreesClassifier__bootstrap=False, ExtraTreesClassifier__criterion=gini, ExtraTreesClassifier__max_features=0.9000000000000001, ExtraTreesClassifier__min_samples_leaf=7, ExtraTreesClassifier__min_samples_split=11, ExtraTreesClassifier__n_estimators=100)': {'crossover_count': 0,\n",
              "  'generation': 2,\n",
              "  'internal_cv_score': 0.783982683982684,\n",
              "  'mutation_count': 1,\n",
              "  'operator_count': 2,\n",
              "  'predecessor': ('ExtraTreesClassifier(KNeighborsClassifier(input_matrix, KNeighborsClassifier__n_neighbors=49, KNeighborsClassifier__p=2, KNeighborsClassifier__weights=uniform), ExtraTreesClassifier__bootstrap=False, ExtraTreesClassifier__criterion=gini, ExtraTreesClassifier__max_features=0.9000000000000001, ExtraTreesClassifier__min_samples_leaf=7, ExtraTreesClassifier__min_samples_split=11, ExtraTreesClassifier__n_estimators=100)',)},\n",
              " 'ExtraTreesClassifier(KNeighborsClassifier(input_matrix, KNeighborsClassifier__n_neighbors=49, KNeighborsClassifier__p=2, KNeighborsClassifier__weights=uniform), ExtraTreesClassifier__bootstrap=False, ExtraTreesClassifier__criterion=gini, ExtraTreesClassifier__max_features=0.9000000000000001, ExtraTreesClassifier__min_samples_leaf=7, ExtraTreesClassifier__min_samples_split=11, ExtraTreesClassifier__n_estimators=100)': {'crossover_count': 0,\n",
              "  'generation': 0,\n",
              "  'internal_cv_score': 0.7962889897078638,\n",
              "  'mutation_count': 0,\n",
              "  'operator_count': 2,\n",
              "  'predecessor': ('ROOT',)},\n",
              " 'ExtraTreesClassifier(SGDClassifier(KNeighborsClassifier(input_matrix, KNeighborsClassifier__n_neighbors=49, KNeighborsClassifier__p=2, KNeighborsClassifier__weights=uniform), SGDClassifier__alpha=0.0, SGDClassifier__eta0=0.01, SGDClassifier__fit_intercept=False, SGDClassifier__l1_ratio=0.25, SGDClassifier__learning_rate=constant, SGDClassifier__loss=squared_hinge, SGDClassifier__penalty=elasticnet, SGDClassifier__power_t=0.0), ExtraTreesClassifier__bootstrap=False, ExtraTreesClassifier__criterion=gini, ExtraTreesClassifier__max_features=0.9000000000000001, ExtraTreesClassifier__min_samples_leaf=7, ExtraTreesClassifier__min_samples_split=11, ExtraTreesClassifier__n_estimators=100)': {'crossover_count': 0,\n",
              "  'generation': 2,\n",
              "  'internal_cv_score': 0.7989401464980934,\n",
              "  'mutation_count': 1,\n",
              "  'operator_count': 3,\n",
              "  'predecessor': ('ExtraTreesClassifier(KNeighborsClassifier(input_matrix, KNeighborsClassifier__n_neighbors=49, KNeighborsClassifier__p=2, KNeighborsClassifier__weights=uniform), ExtraTreesClassifier__bootstrap=False, ExtraTreesClassifier__criterion=gini, ExtraTreesClassifier__max_features=0.9000000000000001, ExtraTreesClassifier__min_samples_leaf=7, ExtraTreesClassifier__min_samples_split=11, ExtraTreesClassifier__n_estimators=100)',)},\n",
              " 'ExtraTreesClassifier(StandardScaler(input_matrix), ExtraTreesClassifier__bootstrap=False, ExtraTreesClassifier__criterion=entropy, ExtraTreesClassifier__max_features=0.6000000000000001, ExtraTreesClassifier__min_samples_leaf=13, ExtraTreesClassifier__min_samples_split=14, ExtraTreesClassifier__n_estimators=100)': {'crossover_count': 0,\n",
              "  'generation': 1,\n",
              "  'internal_cv_score': 0.8053775694504172,\n",
              "  'mutation_count': 1,\n",
              "  'operator_count': 2,\n",
              "  'predecessor': ('ExtraTreesClassifier(input_matrix, ExtraTreesClassifier__bootstrap=False, ExtraTreesClassifier__criterion=entropy, ExtraTreesClassifier__max_features=0.6000000000000001, ExtraTreesClassifier__min_samples_leaf=13, ExtraTreesClassifier__min_samples_split=14, ExtraTreesClassifier__n_estimators=100)',)},\n",
              " 'ExtraTreesClassifier(input_matrix, ExtraTreesClassifier__bootstrap=False, ExtraTreesClassifier__criterion=entropy, ExtraTreesClassifier__max_features=0.1, ExtraTreesClassifier__min_samples_leaf=5, ExtraTreesClassifier__min_samples_split=8, ExtraTreesClassifier__n_estimators=100)': {'crossover_count': 0,\n",
              "  'generation': 0,\n",
              "  'internal_cv_score': 0.7947759883604254,\n",
              "  'mutation_count': 0,\n",
              "  'operator_count': 1,\n",
              "  'predecessor': ('ROOT',)},\n",
              " 'ExtraTreesClassifier(input_matrix, ExtraTreesClassifier__bootstrap=False, ExtraTreesClassifier__criterion=entropy, ExtraTreesClassifier__max_features=0.6000000000000001, ExtraTreesClassifier__min_samples_leaf=13, ExtraTreesClassifier__min_samples_split=14, ExtraTreesClassifier__n_estimators=100)': {'crossover_count': 0,\n",
              "  'generation': 0,\n",
              "  'internal_cv_score': 0.8053775694504172,\n",
              "  'mutation_count': 0,\n",
              "  'operator_count': 1,\n",
              "  'predecessor': ('ROOT',)},\n",
              " 'ExtraTreesClassifier(input_matrix, ExtraTreesClassifier__bootstrap=True, ExtraTreesClassifier__criterion=entropy, ExtraTreesClassifier__max_features=0.55, ExtraTreesClassifier__min_samples_leaf=8, ExtraTreesClassifier__min_samples_split=11, ExtraTreesClassifier__n_estimators=100)': {'crossover_count': 0,\n",
              "  'generation': 2,\n",
              "  'internal_cv_score': 0.8059473638943837,\n",
              "  'mutation_count': 2,\n",
              "  'operator_count': 1,\n",
              "  'predecessor': ('ExtraTreesClassifier(input_matrix, ExtraTreesClassifier__bootstrap=True, ExtraTreesClassifier__criterion=gini, ExtraTreesClassifier__max_features=0.55, ExtraTreesClassifier__min_samples_leaf=8, ExtraTreesClassifier__min_samples_split=11, ExtraTreesClassifier__n_estimators=100)',)},\n",
              " 'ExtraTreesClassifier(input_matrix, ExtraTreesClassifier__bootstrap=True, ExtraTreesClassifier__criterion=gini, ExtraTreesClassifier__max_features=0.55, ExtraTreesClassifier__min_samples_leaf=17, ExtraTreesClassifier__min_samples_split=11, ExtraTreesClassifier__n_estimators=100)': {'crossover_count': 0,\n",
              "  'generation': 0,\n",
              "  'internal_cv_score': 0.8076502967231445,\n",
              "  'mutation_count': 0,\n",
              "  'operator_count': 1,\n",
              "  'predecessor': ('ROOT',)},\n",
              " 'ExtraTreesClassifier(input_matrix, ExtraTreesClassifier__bootstrap=True, ExtraTreesClassifier__criterion=gini, ExtraTreesClassifier__max_features=0.55, ExtraTreesClassifier__min_samples_leaf=8, ExtraTreesClassifier__min_samples_split=11, ExtraTreesClassifier__n_estimators=100)': {'crossover_count': 0,\n",
              "  'generation': 1,\n",
              "  'internal_cv_score': 0.8053786445342735,\n",
              "  'mutation_count': 1,\n",
              "  'operator_count': 1,\n",
              "  'predecessor': ('ExtraTreesClassifier(input_matrix, ExtraTreesClassifier__bootstrap=True, ExtraTreesClassifier__criterion=gini, ExtraTreesClassifier__max_features=0.55, ExtraTreesClassifier__min_samples_leaf=17, ExtraTreesClassifier__min_samples_split=11, ExtraTreesClassifier__n_estimators=100)',)},\n",
              " 'KNeighborsClassifier(FastICA(input_matrix, FastICA__tol=0.55), KNeighborsClassifier__n_neighbors=29, KNeighborsClassifier__p=1, KNeighborsClassifier__weights=uniform)': {'crossover_count': 0,\n",
              "  'generation': 2,\n",
              "  'internal_cv_score': 0.7892871477308564,\n",
              "  'mutation_count': 2,\n",
              "  'operator_count': 2,\n",
              "  'predecessor': ('KNeighborsClassifier(input_matrix, KNeighborsClassifier__n_neighbors=29, KNeighborsClassifier__p=1, KNeighborsClassifier__weights=uniform)',)},\n",
              " 'KNeighborsClassifier(MinMaxScaler(input_matrix), KNeighborsClassifier__n_neighbors=31, KNeighborsClassifier__p=2, KNeighborsClassifier__weights=distance)': {'crossover_count': 0,\n",
              "  'generation': 1,\n",
              "  'internal_cv_score': 0.7648659012069609,\n",
              "  'mutation_count': 1,\n",
              "  'operator_count': 2,\n",
              "  'predecessor': ('KNeighborsClassifier(input_matrix, KNeighborsClassifier__n_neighbors=31, KNeighborsClassifier__p=2, KNeighborsClassifier__weights=distance)',)},\n",
              " 'KNeighborsClassifier(RBFSampler(input_matrix, RBFSampler__gamma=0.45), KNeighborsClassifier__n_neighbors=29, KNeighborsClassifier__p=2, KNeighborsClassifier__weights=uniform)': {'crossover_count': 0,\n",
              "  'generation': 2,\n",
              "  'internal_cv_score': 0.7413851738768956,\n",
              "  'mutation_count': 1,\n",
              "  'operator_count': 2,\n",
              "  'predecessor': ('KNeighborsClassifier(input_matrix, KNeighborsClassifier__n_neighbors=29, KNeighborsClassifier__p=2, KNeighborsClassifier__weights=uniform)',)},\n",
              " 'KNeighborsClassifier(ZeroCount(input_matrix), KNeighborsClassifier__n_neighbors=83, KNeighborsClassifier__p=2, KNeighborsClassifier__weights=uniform)': {'crossover_count': 0,\n",
              "  'generation': 1,\n",
              "  'internal_cv_score': 0.7754633611421691,\n",
              "  'mutation_count': 1,\n",
              "  'operator_count': 2,\n",
              "  'predecessor': ('KNeighborsClassifier(input_matrix, KNeighborsClassifier__n_neighbors=83, KNeighborsClassifier__p=2, KNeighborsClassifier__weights=uniform)',)},\n",
              " 'KNeighborsClassifier(input_matrix, KNeighborsClassifier__n_neighbors=27, KNeighborsClassifier__p=1, KNeighborsClassifier__weights=distance)': {'crossover_count': 0,\n",
              "  'generation': 2,\n",
              "  'internal_cv_score': 0.7911780410538689,\n",
              "  'mutation_count': 2,\n",
              "  'operator_count': 1,\n",
              "  'predecessor': ('XGBClassifier(input_matrix, XGBClassifier__learning_rate=0.5, XGBClassifier__max_depth=1, XGBClassifier__min_child_weight=14, XGBClassifier__n_estimators=100, XGBClassifier__n_jobs=1, XGBClassifier__subsample=0.5, XGBClassifier__verbosity=0)',)},\n",
              " 'KNeighborsClassifier(input_matrix, KNeighborsClassifier__n_neighbors=29, KNeighborsClassifier__p=1, KNeighborsClassifier__weights=uniform)': {'crossover_count': 0,\n",
              "  'generation': 1,\n",
              "  'internal_cv_score': 0.7866333032309853,\n",
              "  'mutation_count': 1,\n",
              "  'operator_count': 1,\n",
              "  'predecessor': ('KNeighborsClassifier(input_matrix, KNeighborsClassifier__n_neighbors=29, KNeighborsClassifier__p=2, KNeighborsClassifier__weights=uniform)',)},\n",
              " 'KNeighborsClassifier(input_matrix, KNeighborsClassifier__n_neighbors=29, KNeighborsClassifier__p=2, KNeighborsClassifier__weights=uniform)': {'crossover_count': 0,\n",
              "  'generation': 0,\n",
              "  'internal_cv_score': 0.7843620094034002,\n",
              "  'mutation_count': 0,\n",
              "  'operator_count': 1,\n",
              "  'predecessor': ('ROOT',)},\n",
              " 'KNeighborsClassifier(input_matrix, KNeighborsClassifier__n_neighbors=31, KNeighborsClassifier__p=2, KNeighborsClassifier__weights=distance)': {'crossover_count': 0,\n",
              "  'generation': 0,\n",
              "  'internal_cv_score': 0.7868234138929504,\n",
              "  'mutation_count': 0,\n",
              "  'operator_count': 1,\n",
              "  'predecessor': ('ROOT',)},\n",
              " 'KNeighborsClassifier(input_matrix, KNeighborsClassifier__n_neighbors=49, KNeighborsClassifier__p=2, KNeighborsClassifier__weights=distance)': {'crossover_count': 1,\n",
              "  'generation': 1,\n",
              "  'internal_cv_score': 0.7839825048020412,\n",
              "  'mutation_count': 0,\n",
              "  'operator_count': 1,\n",
              "  'predecessor': ('KNeighborsClassifier(input_matrix, KNeighborsClassifier__n_neighbors=31, KNeighborsClassifier__p=2, KNeighborsClassifier__weights=distance)',\n",
              "   'ExtraTreesClassifier(KNeighborsClassifier(input_matrix, KNeighborsClassifier__n_neighbors=49, KNeighborsClassifier__p=2, KNeighborsClassifier__weights=uniform), ExtraTreesClassifier__bootstrap=False, ExtraTreesClassifier__criterion=gini, ExtraTreesClassifier__max_features=0.9000000000000001, ExtraTreesClassifier__min_samples_leaf=7, ExtraTreesClassifier__min_samples_split=11, ExtraTreesClassifier__n_estimators=100)')},\n",
              " 'KNeighborsClassifier(input_matrix, KNeighborsClassifier__n_neighbors=83, KNeighborsClassifier__p=2, KNeighborsClassifier__weights=uniform)': {'crossover_count': 0,\n",
              "  'generation': 0,\n",
              "  'internal_cv_score': 0.7756525759009203,\n",
              "  'mutation_count': 0,\n",
              "  'operator_count': 1,\n",
              "  'predecessor': ('ROOT',)},\n",
              " 'LinearSVC(RBFSampler(input_matrix, RBFSampler__gamma=0.75), LinearSVC__C=1.0, LinearSVC__dual=False, LinearSVC__loss=squared_hinge, LinearSVC__penalty=l1, LinearSVC__tol=1e-05)': {'crossover_count': 0,\n",
              "  'generation': 0,\n",
              "  'internal_cv_score': 0.737220836558585,\n",
              "  'mutation_count': 0,\n",
              "  'operator_count': 2,\n",
              "  'predecessor': ('ROOT',)},\n",
              " 'LogisticRegression(Nystroem(input_matrix, Nystroem__gamma=0.55, Nystroem__kernel=rbf, Nystroem__n_components=8), LogisticRegression__C=25.0, LogisticRegression__dual=False, LogisticRegression__penalty=l2)': {'crossover_count': 0,\n",
              "  'generation': 0,\n",
              "  'internal_cv_score': 0.7408159169748574,\n",
              "  'mutation_count': 0,\n",
              "  'operator_count': 2,\n",
              "  'predecessor': ('ROOT',)},\n",
              " 'MultinomialNB(input_matrix, MultinomialNB__alpha=0.01, MultinomialNB__fit_prior=False)': {'crossover_count': 0,\n",
              "  'generation': 2,\n",
              "  'internal_cv_score': 0.656381160230498,\n",
              "  'mutation_count': 1,\n",
              "  'operator_count': 1,\n",
              "  'predecessor': ('XGBClassifier(input_matrix, XGBClassifier__learning_rate=0.5, XGBClassifier__max_depth=4, XGBClassifier__min_child_weight=7, XGBClassifier__n_estimators=100, XGBClassifier__n_jobs=1, XGBClassifier__subsample=0.9500000000000001, XGBClassifier__verbosity=0)',)},\n",
              " 'RandomForestClassifier(BernoulliNB(RFE(input_matrix, RFE__ExtraTreesClassifier__criterion=entropy, RFE__ExtraTreesClassifier__max_features=0.15000000000000002, RFE__ExtraTreesClassifier__n_estimators=100, RFE__step=0.5), BernoulliNB__alpha=10.0, BernoulliNB__fit_prior=False), RandomForestClassifier__bootstrap=False, RandomForestClassifier__criterion=entropy, RandomForestClassifier__max_features=0.1, RandomForestClassifier__min_samples_leaf=9, RandomForestClassifier__min_samples_split=17, RandomForestClassifier__n_estimators=100)': {'crossover_count': 0,\n",
              "  'generation': 2,\n",
              "  'internal_cv_score': 0.8023528210200395,\n",
              "  'mutation_count': 1,\n",
              "  'operator_count': 3,\n",
              "  'predecessor': ('RandomForestClassifier(RFE(input_matrix, RFE__ExtraTreesClassifier__criterion=entropy, RFE__ExtraTreesClassifier__max_features=0.15000000000000002, RFE__ExtraTreesClassifier__n_estimators=100, RFE__step=0.5), RandomForestClassifier__bootstrap=False, RandomForestClassifier__criterion=entropy, RandomForestClassifier__max_features=0.1, RandomForestClassifier__min_samples_leaf=9, RandomForestClassifier__min_samples_split=17, RandomForestClassifier__n_estimators=100)',)},\n",
              " 'RandomForestClassifier(MultinomialNB(BernoulliNB(input_matrix, BernoulliNB__alpha=100.0, BernoulliNB__fit_prior=False), MultinomialNB__alpha=1.0, MultinomialNB__fit_prior=True), RandomForestClassifier__bootstrap=True, RandomForestClassifier__criterion=entropy, RandomForestClassifier__max_features=0.7000000000000001, RandomForestClassifier__min_samples_leaf=16, RandomForestClassifier__min_samples_split=18, RandomForestClassifier__n_estimators=100)': {'crossover_count': 0,\n",
              "  'generation': 2,\n",
              "  'internal_cv_score': 0.8006459462171384,\n",
              "  'mutation_count': 1,\n",
              "  'operator_count': 3,\n",
              "  'predecessor': ('RandomForestClassifier(MultinomialNB(input_matrix, MultinomialNB__alpha=1.0, MultinomialNB__fit_prior=True), RandomForestClassifier__bootstrap=True, RandomForestClassifier__criterion=entropy, RandomForestClassifier__max_features=0.7000000000000001, RandomForestClassifier__min_samples_leaf=16, RandomForestClassifier__min_samples_split=18, RandomForestClassifier__n_estimators=100)',)},\n",
              " 'RandomForestClassifier(MultinomialNB(input_matrix, MultinomialNB__alpha=1.0, MultinomialNB__fit_prior=True), RandomForestClassifier__bootstrap=True, RandomForestClassifier__criterion=entropy, RandomForestClassifier__max_features=0.7000000000000001, RandomForestClassifier__min_samples_leaf=16, RandomForestClassifier__min_samples_split=18, RandomForestClassifier__n_estimators=100)': {'crossover_count': 0,\n",
              "  'generation': 0,\n",
              "  'internal_cv_score': 0.8063254350506007,\n",
              "  'mutation_count': 0,\n",
              "  'operator_count': 2,\n",
              "  'predecessor': ('ROOT',)},\n",
              " 'RandomForestClassifier(RFE(RFE(input_matrix, RFE__ExtraTreesClassifier__criterion=entropy, RFE__ExtraTreesClassifier__max_features=0.15000000000000002, RFE__ExtraTreesClassifier__n_estimators=100, RFE__step=0.5), RFE__ExtraTreesClassifier__criterion=gini, RFE__ExtraTreesClassifier__max_features=0.2, RFE__ExtraTreesClassifier__n_estimators=100, RFE__step=0.8), RandomForestClassifier__bootstrap=False, RandomForestClassifier__criterion=entropy, RandomForestClassifier__max_features=0.1, RandomForestClassifier__min_samples_leaf=9, RandomForestClassifier__min_samples_split=17, RandomForestClassifier__n_estimators=100)': {'crossover_count': 0,\n",
              "  'generation': 2,\n",
              "  'internal_cv_score': 0.7887191450933173,\n",
              "  'mutation_count': 1,\n",
              "  'operator_count': 3,\n",
              "  'predecessor': ('RandomForestClassifier(RFE(input_matrix, RFE__ExtraTreesClassifier__criterion=entropy, RFE__ExtraTreesClassifier__max_features=0.15000000000000002, RFE__ExtraTreesClassifier__n_estimators=100, RFE__step=0.5), RandomForestClassifier__bootstrap=False, RandomForestClassifier__criterion=entropy, RandomForestClassifier__max_features=0.1, RandomForestClassifier__min_samples_leaf=9, RandomForestClassifier__min_samples_split=17, RandomForestClassifier__n_estimators=100)',)},\n",
              " 'RandomForestClassifier(RFE(input_matrix, RFE__ExtraTreesClassifier__criterion=entropy, RFE__ExtraTreesClassifier__max_features=0.15000000000000002, RFE__ExtraTreesClassifier__n_estimators=100, RFE__step=0.5), RandomForestClassifier__bootstrap=False, RandomForestClassifier__criterion=entropy, RandomForestClassifier__max_features=0.1, RandomForestClassifier__min_samples_leaf=9, RandomForestClassifier__min_samples_split=17, RandomForestClassifier__n_estimators=100)': {'crossover_count': 0,\n",
              "  'generation': 0,\n",
              "  'internal_cv_score': 0.8067065522777443,\n",
              "  'mutation_count': 0,\n",
              "  'operator_count': 2,\n",
              "  'predecessor': ('ROOT',)},\n",
              " 'RandomForestClassifier(RFE(input_matrix, RFE__ExtraTreesClassifier__criterion=gini, RFE__ExtraTreesClassifier__max_features=0.15000000000000002, RFE__ExtraTreesClassifier__n_estimators=100, RFE__step=0.5), RandomForestClassifier__bootstrap=False, RandomForestClassifier__criterion=entropy, RandomForestClassifier__max_features=0.1, RandomForestClassifier__min_samples_leaf=9, RandomForestClassifier__min_samples_split=17, RandomForestClassifier__n_estimators=100)': {'crossover_count': 0,\n",
              "  'generation': 1,\n",
              "  'internal_cv_score': 0.8055701886413807,\n",
              "  'mutation_count': 1,\n",
              "  'operator_count': 2,\n",
              "  'predecessor': ('RandomForestClassifier(RFE(input_matrix, RFE__ExtraTreesClassifier__criterion=entropy, RFE__ExtraTreesClassifier__max_features=0.15000000000000002, RFE__ExtraTreesClassifier__n_estimators=100, RFE__step=0.5), RandomForestClassifier__bootstrap=False, RandomForestClassifier__criterion=entropy, RandomForestClassifier__max_features=0.1, RandomForestClassifier__min_samples_leaf=9, RandomForestClassifier__min_samples_split=17, RandomForestClassifier__n_estimators=100)',)},\n",
              " 'RandomForestClassifier(input_matrix, RandomForestClassifier__bootstrap=True, RandomForestClassifier__criterion=entropy, RandomForestClassifier__max_features=0.7000000000000001, RandomForestClassifier__min_samples_leaf=16, RandomForestClassifier__min_samples_split=18, RandomForestClassifier__n_estimators=100)': {'crossover_count': 0,\n",
              "  'generation': 2,\n",
              "  'internal_cv_score': 0.8061365786531349,\n",
              "  'mutation_count': 1,\n",
              "  'operator_count': 1,\n",
              "  'predecessor': ('RandomForestClassifier(MultinomialNB(input_matrix, MultinomialNB__alpha=1.0, MultinomialNB__fit_prior=True), RandomForestClassifier__bootstrap=True, RandomForestClassifier__criterion=entropy, RandomForestClassifier__max_features=0.7000000000000001, RandomForestClassifier__min_samples_leaf=16, RandomForestClassifier__min_samples_split=18, RandomForestClassifier__n_estimators=100)',)},\n",
              " 'SGDClassifier(Normalizer(input_matrix, Normalizer__norm=l1), SGDClassifier__alpha=0.01, SGDClassifier__eta0=1.0, SGDClassifier__fit_intercept=False, SGDClassifier__l1_ratio=0.25, SGDClassifier__learning_rate=constant, SGDClassifier__loss=perceptron, SGDClassifier__penalty=elasticnet, SGDClassifier__power_t=1.0)': {'crossover_count': 0,\n",
              "  'generation': 1,\n",
              "  'internal_cv_score': 0.6429022963791176,\n",
              "  'mutation_count': 1,\n",
              "  'operator_count': 2,\n",
              "  'predecessor': ('SGDClassifier(input_matrix, SGDClassifier__alpha=0.01, SGDClassifier__eta0=1.0, SGDClassifier__fit_intercept=False, SGDClassifier__l1_ratio=0.25, SGDClassifier__learning_rate=constant, SGDClassifier__loss=perceptron, SGDClassifier__penalty=elasticnet, SGDClassifier__power_t=1.0)',)},\n",
              " 'SGDClassifier(PCA(input_matrix, PCA__iterated_power=6, PCA__svd_solver=randomized), SGDClassifier__alpha=0.001, SGDClassifier__eta0=0.01, SGDClassifier__fit_intercept=True, SGDClassifier__l1_ratio=0.25, SGDClassifier__learning_rate=constant, SGDClassifier__loss=modified_huber, SGDClassifier__penalty=elasticnet, SGDClassifier__power_t=0.0)': {'crossover_count': 0,\n",
              "  'generation': 0,\n",
              "  'internal_cv_score': 0.5223515309194118,\n",
              "  'mutation_count': 0,\n",
              "  'operator_count': 2,\n",
              "  'predecessor': ('ROOT',)},\n",
              " 'SGDClassifier(SGDClassifier(input_matrix, SGDClassifier__alpha=0.001, SGDClassifier__eta0=0.1, SGDClassifier__fit_intercept=True, SGDClassifier__l1_ratio=0.0, SGDClassifier__learning_rate=constant, SGDClassifier__loss=modified_huber, SGDClassifier__penalty=elasticnet, SGDClassifier__power_t=50.0), SGDClassifier__alpha=0.0, SGDClassifier__eta0=1.0, SGDClassifier__fit_intercept=False, SGDClassifier__l1_ratio=1.0, SGDClassifier__learning_rate=constant, SGDClassifier__loss=squared_hinge, SGDClassifier__penalty=elasticnet, SGDClassifier__power_t=10.0)': {'crossover_count': 0,\n",
              "  'generation': 0,\n",
              "  'internal_cv_score': 0.6959214902095696,\n",
              "  'mutation_count': 0,\n",
              "  'operator_count': 2,\n",
              "  'predecessor': ('ROOT',)},\n",
              " 'SGDClassifier(SelectFwe(input_matrix, SelectFwe__alpha=0.024), SGDClassifier__alpha=0.01, SGDClassifier__eta0=1.0, SGDClassifier__fit_intercept=False, SGDClassifier__l1_ratio=0.25, SGDClassifier__learning_rate=constant, SGDClassifier__loss=perceptron, SGDClassifier__penalty=elasticnet, SGDClassifier__power_t=1.0)': {'crossover_count': 0,\n",
              "  'generation': 1,\n",
              "  'internal_cv_score': 0.5503762793497893,\n",
              "  'mutation_count': 1,\n",
              "  'operator_count': 2,\n",
              "  'predecessor': ('SGDClassifier(input_matrix, SGDClassifier__alpha=0.01, SGDClassifier__eta0=1.0, SGDClassifier__fit_intercept=False, SGDClassifier__l1_ratio=0.25, SGDClassifier__learning_rate=constant, SGDClassifier__loss=perceptron, SGDClassifier__penalty=elasticnet, SGDClassifier__power_t=1.0)',)},\n",
              " 'SGDClassifier(input_matrix, SGDClassifier__alpha=0.0, SGDClassifier__eta0=0.01, SGDClassifier__fit_intercept=True, SGDClassifier__l1_ratio=0.25, SGDClassifier__learning_rate=constant, SGDClassifier__loss=hinge, SGDClassifier__penalty=elasticnet, SGDClassifier__power_t=0.1)': {'crossover_count': 0,\n",
              "  'generation': 1,\n",
              "  'internal_cv_score': 0.7641045626558871,\n",
              "  'mutation_count': 1,\n",
              "  'operator_count': 1,\n",
              "  'predecessor': ('KNeighborsClassifier(input_matrix, KNeighborsClassifier__n_neighbors=29, KNeighborsClassifier__p=2, KNeighborsClassifier__weights=uniform)',)},\n",
              " 'SGDClassifier(input_matrix, SGDClassifier__alpha=0.0, SGDClassifier__eta0=0.01, SGDClassifier__fit_intercept=True, SGDClassifier__l1_ratio=0.25, SGDClassifier__learning_rate=constant, SGDClassifier__loss=hinge, SGDClassifier__penalty=elasticnet, SGDClassifier__power_t=1.0)': {'crossover_count': 0,\n",
              "  'generation': 2,\n",
              "  'internal_cv_score': 0.7641045626558871,\n",
              "  'mutation_count': 2,\n",
              "  'operator_count': 1,\n",
              "  'predecessor': ('SGDClassifier(input_matrix, SGDClassifier__alpha=0.0, SGDClassifier__eta0=0.01, SGDClassifier__fit_intercept=True, SGDClassifier__l1_ratio=0.25, SGDClassifier__learning_rate=constant, SGDClassifier__loss=hinge, SGDClassifier__penalty=elasticnet, SGDClassifier__power_t=0.1)',)},\n",
              " 'SGDClassifier(input_matrix, SGDClassifier__alpha=0.0, SGDClassifier__eta0=1.0, SGDClassifier__fit_intercept=False, SGDClassifier__l1_ratio=1.0, SGDClassifier__learning_rate=constant, SGDClassifier__loss=squared_hinge, SGDClassifier__penalty=elasticnet, SGDClassifier__power_t=10.0)': {'crossover_count': 0,\n",
              "  'generation': 1,\n",
              "  'internal_cv_score': 0.5749838737421519,\n",
              "  'mutation_count': 1,\n",
              "  'operator_count': 1,\n",
              "  'predecessor': ('SGDClassifier(SGDClassifier(input_matrix, SGDClassifier__alpha=0.001, SGDClassifier__eta0=0.1, SGDClassifier__fit_intercept=True, SGDClassifier__l1_ratio=0.0, SGDClassifier__learning_rate=constant, SGDClassifier__loss=modified_huber, SGDClassifier__penalty=elasticnet, SGDClassifier__power_t=50.0), SGDClassifier__alpha=0.0, SGDClassifier__eta0=1.0, SGDClassifier__fit_intercept=False, SGDClassifier__l1_ratio=1.0, SGDClassifier__learning_rate=constant, SGDClassifier__loss=squared_hinge, SGDClassifier__penalty=elasticnet, SGDClassifier__power_t=10.0)',)},\n",
              " 'SGDClassifier(input_matrix, SGDClassifier__alpha=0.01, SGDClassifier__eta0=0.01, SGDClassifier__fit_intercept=False, SGDClassifier__l1_ratio=0.25, SGDClassifier__learning_rate=constant, SGDClassifier__loss=perceptron, SGDClassifier__penalty=elasticnet, SGDClassifier__power_t=1.0)': {'crossover_count': 0,\n",
              "  'generation': 1,\n",
              "  'internal_cv_score': 0.6577631805280812,\n",
              "  'mutation_count': 1,\n",
              "  'operator_count': 1,\n",
              "  'predecessor': ('SGDClassifier(input_matrix, SGDClassifier__alpha=0.01, SGDClassifier__eta0=1.0, SGDClassifier__fit_intercept=False, SGDClassifier__l1_ratio=0.25, SGDClassifier__learning_rate=constant, SGDClassifier__loss=perceptron, SGDClassifier__penalty=elasticnet, SGDClassifier__power_t=1.0)',)},\n",
              " 'SGDClassifier(input_matrix, SGDClassifier__alpha=0.01, SGDClassifier__eta0=1.0, SGDClassifier__fit_intercept=False, SGDClassifier__l1_ratio=0.25, SGDClassifier__learning_rate=constant, SGDClassifier__loss=perceptron, SGDClassifier__penalty=elasticnet, SGDClassifier__power_t=1.0)': {'crossover_count': 0,\n",
              "  'generation': 0,\n",
              "  'internal_cv_score': 0.5503762793497893,\n",
              "  'mutation_count': 0,\n",
              "  'operator_count': 1,\n",
              "  'predecessor': ('ROOT',)},\n",
              " 'XGBClassifier(Binarizer(input_matrix, Binarizer__threshold=0.8500000000000001), XGBClassifier__learning_rate=0.5, XGBClassifier__max_depth=4, XGBClassifier__min_child_weight=7, XGBClassifier__n_estimators=100, XGBClassifier__n_jobs=1, XGBClassifier__subsample=0.9500000000000001, XGBClassifier__verbosity=0)': {'crossover_count': 0,\n",
              "  'generation': 1,\n",
              "  'internal_cv_score': 0.7678944124308362,\n",
              "  'mutation_count': 1,\n",
              "  'operator_count': 2,\n",
              "  'predecessor': ('XGBClassifier(input_matrix, XGBClassifier__learning_rate=0.5, XGBClassifier__max_depth=4, XGBClassifier__min_child_weight=7, XGBClassifier__n_estimators=100, XGBClassifier__n_jobs=1, XGBClassifier__subsample=0.9500000000000001, XGBClassifier__verbosity=0)',)},\n",
              " 'XGBClassifier(GradientBoostingClassifier(KNeighborsClassifier(input_matrix, KNeighborsClassifier__n_neighbors=40, KNeighborsClassifier__p=2, KNeighborsClassifier__weights=distance), GradientBoostingClassifier__learning_rate=0.5, GradientBoostingClassifier__max_depth=1, GradientBoostingClassifier__max_features=0.4, GradientBoostingClassifier__min_samples_leaf=11, GradientBoostingClassifier__min_samples_split=10, GradientBoostingClassifier__n_estimators=100, GradientBoostingClassifier__subsample=0.2), XGBClassifier__learning_rate=0.5, XGBClassifier__max_depth=1, XGBClassifier__min_child_weight=14, XGBClassifier__n_estimators=100, XGBClassifier__n_jobs=1, XGBClassifier__subsample=0.5, XGBClassifier__verbosity=0)': {'crossover_count': 0,\n",
              "  'generation': 1,\n",
              "  'internal_cv_score': 0.7650576244947106,\n",
              "  'mutation_count': 1,\n",
              "  'operator_count': 3,\n",
              "  'predecessor': ('XGBClassifier(KNeighborsClassifier(input_matrix, KNeighborsClassifier__n_neighbors=40, KNeighborsClassifier__p=2, KNeighborsClassifier__weights=distance), XGBClassifier__learning_rate=0.5, XGBClassifier__max_depth=1, XGBClassifier__min_child_weight=14, XGBClassifier__n_estimators=100, XGBClassifier__n_jobs=1, XGBClassifier__subsample=0.5, XGBClassifier__verbosity=0)',)},\n",
              " 'XGBClassifier(KNeighborsClassifier(input_matrix, KNeighborsClassifier__n_neighbors=40, KNeighborsClassifier__p=1, KNeighborsClassifier__weights=distance), XGBClassifier__learning_rate=0.5, XGBClassifier__max_depth=1, XGBClassifier__min_child_weight=14, XGBClassifier__n_estimators=100, XGBClassifier__n_jobs=1, XGBClassifier__subsample=0.5, XGBClassifier__verbosity=0)': {'crossover_count': 0,\n",
              "  'generation': 1,\n",
              "  'internal_cv_score': 0.7540743886356468,\n",
              "  'mutation_count': 1,\n",
              "  'operator_count': 2,\n",
              "  'predecessor': ('XGBClassifier(KNeighborsClassifier(input_matrix, KNeighborsClassifier__n_neighbors=40, KNeighborsClassifier__p=2, KNeighborsClassifier__weights=distance), XGBClassifier__learning_rate=0.5, XGBClassifier__max_depth=1, XGBClassifier__min_child_weight=14, XGBClassifier__n_estimators=100, XGBClassifier__n_jobs=1, XGBClassifier__subsample=0.5, XGBClassifier__verbosity=0)',)},\n",
              " 'XGBClassifier(KNeighborsClassifier(input_matrix, KNeighborsClassifier__n_neighbors=40, KNeighborsClassifier__p=2, KNeighborsClassifier__weights=distance), XGBClassifier__learning_rate=0.5, XGBClassifier__max_depth=1, XGBClassifier__min_child_weight=14, XGBClassifier__n_estimators=100, XGBClassifier__n_jobs=1, XGBClassifier__subsample=0.5, XGBClassifier__verbosity=0)': {'crossover_count': 0,\n",
              "  'generation': 0,\n",
              "  'internal_cv_score': 0.7552091396462257,\n",
              "  'mutation_count': 0,\n",
              "  'operator_count': 2,\n",
              "  'predecessor': ('ROOT',)},\n",
              " 'XGBClassifier(VarianceThreshold(input_matrix, VarianceThreshold__threshold=0.005), XGBClassifier__learning_rate=0.5, XGBClassifier__max_depth=1, XGBClassifier__min_child_weight=14, XGBClassifier__n_estimators=100, XGBClassifier__n_jobs=1, XGBClassifier__subsample=0.5, XGBClassifier__verbosity=0)': {'crossover_count': 0,\n",
              "  'generation': 2,\n",
              "  'internal_cv_score': 0.8133319357243198,\n",
              "  'mutation_count': 2,\n",
              "  'operator_count': 2,\n",
              "  'predecessor': ('XGBClassifier(input_matrix, XGBClassifier__learning_rate=0.5, XGBClassifier__max_depth=1, XGBClassifier__min_child_weight=14, XGBClassifier__n_estimators=100, XGBClassifier__n_jobs=1, XGBClassifier__subsample=0.5, XGBClassifier__verbosity=0)',)},\n",
              " 'XGBClassifier(VarianceThreshold(input_matrix, VarianceThreshold__threshold=0.05), XGBClassifier__learning_rate=0.5, XGBClassifier__max_depth=1, XGBClassifier__min_child_weight=14, XGBClassifier__n_estimators=100, XGBClassifier__n_jobs=1, XGBClassifier__subsample=0.5, XGBClassifier__verbosity=0)': {'crossover_count': 1,\n",
              "  'generation': 2,\n",
              "  'internal_cv_score': 0.8133319357243198,\n",
              "  'mutation_count': 1,\n",
              "  'operator_count': 2,\n",
              "  'predecessor': ('XGBClassifier(input_matrix, XGBClassifier__learning_rate=0.5, XGBClassifier__max_depth=1, XGBClassifier__min_child_weight=14, XGBClassifier__n_estimators=100, XGBClassifier__n_jobs=1, XGBClassifier__subsample=0.5, XGBClassifier__verbosity=0)',)},\n",
              " 'XGBClassifier(input_matrix, XGBClassifier__learning_rate=0.001, XGBClassifier__max_depth=4, XGBClassifier__min_child_weight=7, XGBClassifier__n_estimators=100, XGBClassifier__n_jobs=1, XGBClassifier__subsample=0.9500000000000001, XGBClassifier__verbosity=0)': {'crossover_count': 0,\n",
              "  'generation': 2,\n",
              "  'internal_cv_score': 0.7877687709641352,\n",
              "  'mutation_count': 1,\n",
              "  'operator_count': 1,\n",
              "  'predecessor': ('XGBClassifier(input_matrix, XGBClassifier__learning_rate=0.5, XGBClassifier__max_depth=4, XGBClassifier__min_child_weight=7, XGBClassifier__n_estimators=100, XGBClassifier__n_jobs=1, XGBClassifier__subsample=0.9500000000000001, XGBClassifier__verbosity=0)',)},\n",
              " 'XGBClassifier(input_matrix, XGBClassifier__learning_rate=0.5, XGBClassifier__max_depth=1, XGBClassifier__min_child_weight=12, XGBClassifier__n_estimators=100, XGBClassifier__n_jobs=1, XGBClassifier__subsample=0.5, XGBClassifier__verbosity=0)': {'crossover_count': 1,\n",
              "  'generation': 2,\n",
              "  'internal_cv_score': 0.8116270319084888,\n",
              "  'mutation_count': 1,\n",
              "  'operator_count': 1,\n",
              "  'predecessor': ('XGBClassifier(input_matrix, XGBClassifier__learning_rate=0.5, XGBClassifier__max_depth=1, XGBClassifier__min_child_weight=14, XGBClassifier__n_estimators=100, XGBClassifier__n_jobs=1, XGBClassifier__subsample=0.5, XGBClassifier__verbosity=0)',)},\n",
              " 'XGBClassifier(input_matrix, XGBClassifier__learning_rate=0.5, XGBClassifier__max_depth=1, XGBClassifier__min_child_weight=14, XGBClassifier__n_estimators=100, XGBClassifier__n_jobs=1, XGBClassifier__subsample=0.5, XGBClassifier__verbosity=0)': {'crossover_count': 1,\n",
              "  'generation': 1,\n",
              "  'internal_cv_score': 0.8133319357243198,\n",
              "  'mutation_count': 0,\n",
              "  'operator_count': 1,\n",
              "  'predecessor': ('XGBClassifier(KNeighborsClassifier(input_matrix, KNeighborsClassifier__n_neighbors=40, KNeighborsClassifier__p=2, KNeighborsClassifier__weights=distance), XGBClassifier__learning_rate=0.5, XGBClassifier__max_depth=1, XGBClassifier__min_child_weight=14, XGBClassifier__n_estimators=100, XGBClassifier__n_jobs=1, XGBClassifier__subsample=0.5, XGBClassifier__verbosity=0)',\n",
              "   'KNeighborsClassifier(input_matrix, KNeighborsClassifier__n_neighbors=29, KNeighborsClassifier__p=2, KNeighborsClassifier__weights=uniform)')},\n",
              " 'XGBClassifier(input_matrix, XGBClassifier__learning_rate=0.5, XGBClassifier__max_depth=4, XGBClassifier__min_child_weight=7, XGBClassifier__n_estimators=100, XGBClassifier__n_jobs=1, XGBClassifier__subsample=0.55, XGBClassifier__verbosity=0)': {'crossover_count': 0,\n",
              "  'generation': 1,\n",
              "  'internal_cv_score': 0.7792515982913333,\n",
              "  'mutation_count': 1,\n",
              "  'operator_count': 1,\n",
              "  'predecessor': ('XGBClassifier(input_matrix, XGBClassifier__learning_rate=0.5, XGBClassifier__max_depth=4, XGBClassifier__min_child_weight=7, XGBClassifier__n_estimators=100, XGBClassifier__n_jobs=1, XGBClassifier__subsample=0.9500000000000001, XGBClassifier__verbosity=0)',)},\n",
              " 'XGBClassifier(input_matrix, XGBClassifier__learning_rate=0.5, XGBClassifier__max_depth=4, XGBClassifier__min_child_weight=7, XGBClassifier__n_estimators=100, XGBClassifier__n_jobs=1, XGBClassifier__subsample=0.9500000000000001, XGBClassifier__verbosity=0)': {'crossover_count': 0,\n",
              "  'generation': 0,\n",
              "  'internal_cv_score': 0.7951547762392133,\n",
              "  'mutation_count': 0,\n",
              "  'operator_count': 1,\n",
              "  'predecessor': ('ROOT',)},\n",
              " 'XGBClassifier(input_matrix, XGBClassifier__learning_rate=0.5, XGBClassifier__max_depth=5, XGBClassifier__min_child_weight=6, XGBClassifier__n_estimators=100, XGBClassifier__n_jobs=1, XGBClassifier__subsample=0.8500000000000001, XGBClassifier__verbosity=0)': {'crossover_count': 1,\n",
              "  'generation': 2,\n",
              "  'internal_cv_score': 0.7788746022189732,\n",
              "  'mutation_count': 1,\n",
              "  'operator_count': 1,\n",
              "  'predecessor': ('KNeighborsClassifier(input_matrix, KNeighborsClassifier__n_neighbors=49, KNeighborsClassifier__p=2, KNeighborsClassifier__weights=distance)',)}}"
            ]
          },
          "metadata": {
            "tags": []
          },
          "execution_count": 89
        }
      ]
    }
  ]
}